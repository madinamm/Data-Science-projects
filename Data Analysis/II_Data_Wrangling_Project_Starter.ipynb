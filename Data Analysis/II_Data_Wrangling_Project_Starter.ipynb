{
 "cells": [
  {
   "cell_type": "markdown",
   "metadata": {
    "id": "GNIwe5N7s0e_"
   },
   "source": [
    "# Data Science Professionals Job Market and Salaries in US and UK"
   ]
  },
  {
   "cell_type": "markdown",
   "metadata": {},
   "source": [
    "### Required packages:"
   ]
  },
  {
   "cell_type": "code",
   "execution_count": null,
   "metadata": {},
   "outputs": [],
   "source": [
    "!python -m pip install kaggle==1.6.12"
   ]
  },
  {
   "cell_type": "code",
   "execution_count": null,
   "metadata": {},
   "outputs": [],
   "source": [
    "!pip install --target=/workspace ucimlrepo numpy==1.24.3"
   ]
  },
  {
   "cell_type": "code",
   "execution_count": null,
   "metadata": {},
   "outputs": [],
   "source": [
    "!pip install kaggle"
   ]
  },
  {
   "cell_type": "code",
   "execution_count": null,
   "metadata": {},
   "outputs": [],
   "source": [
    "!pip install kagglehub"
   ]
  },
  {
   "cell_type": "code",
   "execution_count": null,
   "metadata": {},
   "outputs": [],
   "source": [
    "!pip install beautifulsoup4 requests"
   ]
  },
  {
   "cell_type": "code",
   "execution_count": null,
   "metadata": {},
   "outputs": [],
   "source": [
    "!pip install selenium"
   ]
  },
  {
   "cell_type": "code",
   "execution_count": null,
   "metadata": {},
   "outputs": [],
   "source": [
    "!pip install webdriver-manager"
   ]
  },
  {
   "cell_type": "code",
   "execution_count": 2,
   "metadata": {},
   "outputs": [],
   "source": [
    "import pandas as pd\n",
    "import requests\n",
    "import zipfile\n",
    "import io\n",
    "import matplotlib.pyplot as plt\n",
    "import seaborn as sns\n",
    "import numpy as np\n",
    "\n",
    "from selenium import webdriver\n",
    "from selenium.webdriver.common.by import By\n",
    "from selenium.webdriver.support.ui import WebDriverWait\n",
    "from selenium.webdriver.support import expected_conditions as EC\n",
    "import time"
   ]
  },
  {
   "cell_type": "markdown",
   "metadata": {
    "id": "lDYDkH-Zs7Nn"
   },
   "source": [
    "## 1. Gathering data"
   ]
  },
  {
   "cell_type": "markdown",
   "metadata": {
    "id": "LbN7z7rcuqpO"
   },
   "source": [
    "### **1.1.** Problem Statement\n",
    "\n",
    "In this report we would like to analyse major characteristics of US and UK job markets for data science professionals in Mid-senior level, specifically:\n",
    "- how many open positions are available in both countries based on the available data sources;\n",
    "- what are the Average Salary, Standard deviation, Mode, Minimum and Maximum Salaries of UK and US;\n",
    "- how different Average Salaries are for Mid-senior level Data Science professionals between mentioned countries during the observed period.\n",
    "\n",
    "In order to perform the analysis we will use below data:\n",
    "1) Data Science Job postings on LinkedIn;\n",
    "2) Salaries of Data Science professionals"
   ]
  },
  {
   "cell_type": "markdown",
   "metadata": {
    "id": "8AQfBAdUypMm"
   },
   "source": [
    "### **1.2.** Gathering datasets\n",
    "**General Note** For the purposes of this report two methods were used: API and HTML. \n",
    "\n",
    "Download of CSV (although less complex) was not chosen as a method in order to test various methods in our developments."
   ]
  },
  {
   "cell_type": "markdown",
   "metadata": {
    "id": "7e6gS0wL1KTu"
   },
   "source": [
    "#### **Dataset 1 Data Science Job Postings**\n",
    "\n",
    "Type: *CSV in ZIP file*\n",
    "\n",
    "Method: *The data was gathered by accessing API via Kaggle.com*\n",
    "\n",
    "Dataset variables:\n",
    "\n",
    " *   *job_link: LinkedIn link*\n",
    " *   *last_processed_time: data extraction time*\n",
    " *   *last_status*\n",
    " *   *got_summary*\n",
    " *   *got_ner*\n",
    " *   *is_being_worked*\n",
    " *   *job_title: Job Title as posted*\n",
    " *   *company: Recruiting company name*\n",
    " *   *job_location: Location of the job*\n",
    " *   *first_seen: when originally posted*\n",
    " *   *search_city: City*\n",
    " *   *search_country: Country*\n",
    " *   *search_position: Position*\n",
    " *   *job_level*\n",
    " *   *job_type: Job Type either Onsite, Remote or Hybdrid*\n",
    "\n",
    "**Description**: \n",
    "This dataset has information about job postings in Data Science field as of January 2024, where we can analyze data about Job title, location, Job levels and more. This dataset is useful in understanding and analyzing demand for data science professionals, including seniority level. The dataset was extracted using API method."
   ]
  },
  {
   "cell_type": "code",
   "execution_count": 3,
   "metadata": {
    "id": "Su8E0uLuYkHU"
   },
   "outputs": [
    {
     "name": "stderr",
     "output_type": "stream",
     "text": [
      "C:\\Users\\gcfoj\\AppData\\Local\\anaconda3\\Lib\\site-packages\\urllib3\\connectionpool.py:1099: InsecureRequestWarning: Unverified HTTPS request is being made to host 'www.kaggle.com'. Adding certificate verification is strongly advised. See: https://urllib3.readthedocs.io/en/latest/advanced-usage.html#tls-warnings\n",
      "  warnings.warn(\n",
      "C:\\Users\\gcfoj\\AppData\\Local\\anaconda3\\Lib\\site-packages\\urllib3\\connectionpool.py:1099: InsecureRequestWarning: Unverified HTTPS request is being made to host 'storage.googleapis.com'. Adding certificate verification is strongly advised. See: https://urllib3.readthedocs.io/en/latest/advanced-usage.html#tls-warnings\n",
      "  warnings.warn(\n"
     ]
    },
    {
     "name": "stdout",
     "output_type": "stream",
     "text": [
      "job_postings.csv loaded successfully.\n",
      "<class 'pandas.core.frame.DataFrame'>\n",
      "RangeIndex: 12217 entries, 0 to 12216\n",
      "Data columns (total 15 columns):\n",
      " #   Column               Non-Null Count  Dtype \n",
      "---  ------               --------------  ----- \n",
      " 0   job_link             12217 non-null  object\n",
      " 1   last_processed_time  12217 non-null  object\n",
      " 2   last_status          12217 non-null  object\n",
      " 3   got_summary          12217 non-null  object\n",
      " 4   got_ner              12217 non-null  object\n",
      " 5   is_being_worked      12217 non-null  object\n",
      " 6   job_title            12217 non-null  object\n",
      " 7   company              12217 non-null  object\n",
      " 8   job_location         12216 non-null  object\n",
      " 9   first_seen           12217 non-null  object\n",
      " 10  search_city          12217 non-null  object\n",
      " 11  search_country       12217 non-null  object\n",
      " 12  search_position      12217 non-null  object\n",
      " 13  job_level            12217 non-null  object\n",
      " 14  job_type             12217 non-null  object\n",
      "dtypes: object(15)\n",
      "memory usage: 1.4+ MB\n",
      "None\n"
     ]
    }
   ],
   "source": [
    "#Data Science Job Postings data gathering and loading\n",
    "original_get = requests.get\n",
    "requests.get = lambda *args, **kwargs: original_get(*args, verify=False, **kwargs)\n",
    "\n",
    "# Download the dataset as a zip file\n",
    "dataset_name = \"asaniczka/data-science-job-postings-and-skills\"\n",
    "url = f'https://www.kaggle.com/api/v1/datasets/download/{dataset_name}'\n",
    "response = requests.get(url)\n",
    "\n",
    "# Restore the original requests.get method\n",
    "requests.get = original_get\n",
    "\n",
    "# Check if the request was successful\n",
    "if response.status_code == 200:\n",
    "    # Load the zip file into a pandas DataFrame\n",
    "    with zipfile.ZipFile(io.BytesIO(response.content)) as z:\n",
    "        # Check if 'job_postings.csv' exists in the zip file\n",
    "        if 'job_postings.csv' in z.namelist():\n",
    "            with z.open('job_postings.csv') as f:\n",
    "                df = pd.read_csv(f)\n",
    "            print(\"job_postings.csv loaded successfully.\")\n",
    "        else:\n",
    "            print(\"'job_postings.csv' not found in the zip file.\")\n",
    "else:\n",
    "    print(f\"Failed to download dataset: {response.status_code}\")\n",
    "\n",
    "# Display the DataFrame (optional)\n",
    "print(df.info())"
   ]
  },
  {
   "cell_type": "markdown",
   "metadata": {
    "id": "hoUjq1tPzz7P"
   },
   "source": [
    "#### Dataset 2 Salaries of Data Science professionals\n",
    "\n",
    "Type: *CSV in ZIP file*\n",
    "\n",
    "Method: *The data was gathered using HTML from Kaggle*\n",
    "IMPORTANT: Microsoft Edge has to be installed\n",
    "\n",
    "Dataset variables:\n",
    "*   *Job Title: Job Title of DS jobs*\n",
    "*   *Employment Type: e.g. Full-time*\n",
    "*   *Experience Level: Senior, Mid, Executive*\n",
    "*   *Expertise Level: Expert, Intermediate, Director*\n",
    "*   *Salary*\n",
    "*   *Salary Currency*\n",
    "*   *Company Location: Country*\n",
    "*   *Salary in USD*\n",
    "*   *Employee Residence: Country*\n",
    "*   *Company Size*\n",
    "\n",
    "**Description**: This dataset contains information about Salary, Experience level, Job title, Country and other information of Data Science Professionals between 2020-2024 years in selected countries.\n",
    "\n",
    "**Limitation**: This data contains significant amount of data, but for the purposes of this report in order to ensure the speed performance of data load we limited data to 600 entries (or 12 scrolls of the webpage). This limit can be extended to a broader scope in the relevant parameters below."
   ]
  },
  {
   "cell_type": "code",
   "execution_count": 4,
   "metadata": {
    "id": "6zT0QxRyYmm7"
   },
   "outputs": [],
   "source": [
    "#Salaries of Data Science professionals data gathering and loading\n",
    "\n",
    "# Set up the Selenium WebDriver for Microsoft Edge\n",
    "options = webdriver.EdgeOptions()\n",
    "options.use_chromium = True  \n",
    "driver = webdriver.Edge(options=options)\n",
    "\n",
    "url = 'https://www.kaggle.com/datasets/iamsouravbanerjee/data-science-salaries-2023/data'\n",
    "\n",
    "# Open the URL\n",
    "driver.get(url)\n",
    "\n",
    "# Wait for the page to fully load\n",
    "wait = WebDriverWait(driver, 10)\n",
    "wait.until(EC.presence_of_all_elements_located((By.CLASS_NAME, 'sc-hwHwzU')))\n",
    "\n",
    "# Initialize a list to hold the data rows\n",
    "data_rows = []\n",
    "\n",
    "# Simulate scroll events to load additional content\n",
    "for scroll_count in range(12):  # PLEASE ADJUST HERE in case if more data (scrolls) are needed, 12 scrolls give 600 entries\n",
    "    # Scroll down using JavaScript\n",
    "    driver.execute_script(\"window.scrollTo(0, document.body.scrollHeight);\")\n",
    "\n",
    "    # Wait for the dynamically loaded content to appear\n",
    "    wait.until(EC.presence_of_all_elements_located((By.CLASS_NAME, 'sc-hwHwzU')))\n",
    "    \n",
    "    # Collect the rows after each scroll\n",
    "    rows = driver.find_elements(By.CLASS_NAME, 'sc-hwHwzU')\n",
    "\n",
    "    # Loop through each row and extract the relevant data\n",
    "    for row in rows:\n",
    "        divs = row.find_elements(By.TAG_NAME, 'div')\n",
    "        data_row = [div.text for div in divs]\n",
    "        if len(data_row) == 10:\n",
    "            data_rows.append(data_row)\n",
    "\n",
    "# Define the column names\n",
    "columns = [\n",
    "    \"Job Title\",\n",
    "    \"Employment Type\",\n",
    "    \"Experience Level\",\n",
    "    \"Expertise Level\",\n",
    "    \"Salary\",\n",
    "    \"Salary Currency\",\n",
    "    \"Company Location\",\n",
    "    \"Salary in USD\",\n",
    "    \"Employee Residence\",\n",
    "    \"Company Size\"\n",
    "]\n",
    "\n",
    "# Create a DataFrame\n",
    "df_2 = pd.DataFrame(data_rows, columns=columns)\n",
    "\n",
    "# Close the browser\n",
    "driver.quit()"
   ]
  },
  {
   "cell_type": "markdown",
   "metadata": {},
   "source": [
    "Data storing step"
   ]
  },
  {
   "cell_type": "code",
   "execution_count": 5,
   "metadata": {},
   "outputs": [],
   "source": [
    "#storing the raw data in the local data store\n",
    "df.to_csv('raw_data1.csv', index=False)\n",
    "df_2.to_csv('raw_data2.csv', index=False)"
   ]
  },
  {
   "cell_type": "markdown",
   "metadata": {
    "id": "QwSWIVmotLgV"
   },
   "source": [
    "## 2. Data Assessment\n",
    "\n",
    "We have started Data Assessment phase from the general inspection of data below to understand the fields and afterwards performed separate analysis on specific issues identified."
   ]
  },
  {
   "cell_type": "code",
   "execution_count": 6,
   "metadata": {},
   "outputs": [
    {
     "data": {
      "text/html": [
       "<div>\n",
       "<style scoped>\n",
       "    .dataframe tbody tr th:only-of-type {\n",
       "        vertical-align: middle;\n",
       "    }\n",
       "\n",
       "    .dataframe tbody tr th {\n",
       "        vertical-align: top;\n",
       "    }\n",
       "\n",
       "    .dataframe thead th {\n",
       "        text-align: right;\n",
       "    }\n",
       "</style>\n",
       "<table border=\"1\" class=\"dataframe\">\n",
       "  <thead>\n",
       "    <tr style=\"text-align: right;\">\n",
       "      <th></th>\n",
       "      <th>job_link</th>\n",
       "      <th>last_processed_time</th>\n",
       "      <th>last_status</th>\n",
       "      <th>got_summary</th>\n",
       "      <th>got_ner</th>\n",
       "      <th>is_being_worked</th>\n",
       "      <th>job_title</th>\n",
       "      <th>company</th>\n",
       "      <th>job_location</th>\n",
       "      <th>first_seen</th>\n",
       "      <th>search_city</th>\n",
       "      <th>search_country</th>\n",
       "      <th>search_position</th>\n",
       "      <th>job_level</th>\n",
       "      <th>job_type</th>\n",
       "    </tr>\n",
       "  </thead>\n",
       "  <tbody>\n",
       "    <tr>\n",
       "      <th>0</th>\n",
       "      <td>https://www.linkedin.com/jobs/view/senior-mach...</td>\n",
       "      <td>2024-01-21 08:08:48.031964+00</td>\n",
       "      <td>Finished NER</td>\n",
       "      <td>t</td>\n",
       "      <td>t</td>\n",
       "      <td>f</td>\n",
       "      <td>Senior Machine Learning Engineer</td>\n",
       "      <td>Jobs for Humanity</td>\n",
       "      <td>New Haven, CT</td>\n",
       "      <td>2024-01-14</td>\n",
       "      <td>East Haven</td>\n",
       "      <td>United States</td>\n",
       "      <td>Agricultural-Research Engineer</td>\n",
       "      <td>Mid senior</td>\n",
       "      <td>Onsite</td>\n",
       "    </tr>\n",
       "    <tr>\n",
       "      <th>1</th>\n",
       "      <td>https://www.linkedin.com/jobs/view/principal-s...</td>\n",
       "      <td>2024-01-20 04:02:12.331406+00</td>\n",
       "      <td>Finished NER</td>\n",
       "      <td>t</td>\n",
       "      <td>t</td>\n",
       "      <td>f</td>\n",
       "      <td>Principal Software Engineer, ML Accelerators</td>\n",
       "      <td>Aurora</td>\n",
       "      <td>San Francisco, CA</td>\n",
       "      <td>2024-01-14</td>\n",
       "      <td>El Cerrito</td>\n",
       "      <td>United States</td>\n",
       "      <td>Set-Key Driver</td>\n",
       "      <td>Mid senior</td>\n",
       "      <td>Onsite</td>\n",
       "    </tr>\n",
       "    <tr>\n",
       "      <th>2</th>\n",
       "      <td>https://www.linkedin.com/jobs/view/senior-etl-...</td>\n",
       "      <td>2024-01-21 08:08:31.941595+00</td>\n",
       "      <td>Finished NER</td>\n",
       "      <td>t</td>\n",
       "      <td>t</td>\n",
       "      <td>f</td>\n",
       "      <td>Senior ETL Data Warehouse Specialist</td>\n",
       "      <td>Adame Services LLC</td>\n",
       "      <td>New York, NY</td>\n",
       "      <td>2024-01-14</td>\n",
       "      <td>Middletown</td>\n",
       "      <td>United States</td>\n",
       "      <td>Technical Support Specialist</td>\n",
       "      <td>Associate</td>\n",
       "      <td>Onsite</td>\n",
       "    </tr>\n",
       "    <tr>\n",
       "      <th>3</th>\n",
       "      <td>https://www.linkedin.com/jobs/view/senior-data...</td>\n",
       "      <td>2024-01-20 15:30:55.796572+00</td>\n",
       "      <td>Finished NER</td>\n",
       "      <td>t</td>\n",
       "      <td>t</td>\n",
       "      <td>f</td>\n",
       "      <td>Senior Data Warehouse Developer / Architect</td>\n",
       "      <td>Morph Enterprise</td>\n",
       "      <td>Harrisburg, PA</td>\n",
       "      <td>2024-01-12</td>\n",
       "      <td>Lebanon</td>\n",
       "      <td>United States</td>\n",
       "      <td>Architect</td>\n",
       "      <td>Mid senior</td>\n",
       "      <td>Onsite</td>\n",
       "    </tr>\n",
       "    <tr>\n",
       "      <th>4</th>\n",
       "      <td>https://www.linkedin.com/jobs/view/lead-data-e...</td>\n",
       "      <td>2024-01-21 08:08:58.312124+00</td>\n",
       "      <td>Finished NER</td>\n",
       "      <td>t</td>\n",
       "      <td>t</td>\n",
       "      <td>f</td>\n",
       "      <td>Lead Data Engineer</td>\n",
       "      <td>Dice</td>\n",
       "      <td>Plano, TX</td>\n",
       "      <td>2024-01-14</td>\n",
       "      <td>McKinney</td>\n",
       "      <td>United States</td>\n",
       "      <td>Maintenance Data Analyst</td>\n",
       "      <td>Mid senior</td>\n",
       "      <td>Onsite</td>\n",
       "    </tr>\n",
       "  </tbody>\n",
       "</table>\n",
       "</div>"
      ],
      "text/plain": [
       "                                            job_link  \\\n",
       "0  https://www.linkedin.com/jobs/view/senior-mach...   \n",
       "1  https://www.linkedin.com/jobs/view/principal-s...   \n",
       "2  https://www.linkedin.com/jobs/view/senior-etl-...   \n",
       "3  https://www.linkedin.com/jobs/view/senior-data...   \n",
       "4  https://www.linkedin.com/jobs/view/lead-data-e...   \n",
       "\n",
       "             last_processed_time   last_status got_summary got_ner  \\\n",
       "0  2024-01-21 08:08:48.031964+00  Finished NER           t       t   \n",
       "1  2024-01-20 04:02:12.331406+00  Finished NER           t       t   \n",
       "2  2024-01-21 08:08:31.941595+00  Finished NER           t       t   \n",
       "3  2024-01-20 15:30:55.796572+00  Finished NER           t       t   \n",
       "4  2024-01-21 08:08:58.312124+00  Finished NER           t       t   \n",
       "\n",
       "  is_being_worked                                     job_title  \\\n",
       "0               f              Senior Machine Learning Engineer   \n",
       "1               f  Principal Software Engineer, ML Accelerators   \n",
       "2               f          Senior ETL Data Warehouse Specialist   \n",
       "3               f   Senior Data Warehouse Developer / Architect   \n",
       "4               f                            Lead Data Engineer   \n",
       "\n",
       "              company       job_location  first_seen search_city  \\\n",
       "0   Jobs for Humanity      New Haven, CT  2024-01-14  East Haven   \n",
       "1              Aurora  San Francisco, CA  2024-01-14  El Cerrito   \n",
       "2  Adame Services LLC       New York, NY  2024-01-14  Middletown   \n",
       "3    Morph Enterprise     Harrisburg, PA  2024-01-12     Lebanon   \n",
       "4                Dice          Plano, TX  2024-01-14    McKinney   \n",
       "\n",
       "  search_country                 search_position   job_level job_type  \n",
       "0  United States  Agricultural-Research Engineer  Mid senior   Onsite  \n",
       "1  United States                  Set-Key Driver  Mid senior   Onsite  \n",
       "2  United States    Technical Support Specialist   Associate   Onsite  \n",
       "3  United States                       Architect  Mid senior   Onsite  \n",
       "4  United States        Maintenance Data Analyst  Mid senior   Onsite  "
      ]
     },
     "execution_count": 6,
     "metadata": {},
     "output_type": "execute_result"
    }
   ],
   "source": [
    "# General inspection of data\n",
    "df.head()"
   ]
  },
  {
   "cell_type": "code",
   "execution_count": 7,
   "metadata": {},
   "outputs": [
    {
     "data": {
      "text/html": [
       "<div>\n",
       "<style scoped>\n",
       "    .dataframe tbody tr th:only-of-type {\n",
       "        vertical-align: middle;\n",
       "    }\n",
       "\n",
       "    .dataframe tbody tr th {\n",
       "        vertical-align: top;\n",
       "    }\n",
       "\n",
       "    .dataframe thead th {\n",
       "        text-align: right;\n",
       "    }\n",
       "</style>\n",
       "<table border=\"1\" class=\"dataframe\">\n",
       "  <thead>\n",
       "    <tr style=\"text-align: right;\">\n",
       "      <th></th>\n",
       "      <th>job_link</th>\n",
       "      <th>last_processed_time</th>\n",
       "      <th>last_status</th>\n",
       "      <th>got_summary</th>\n",
       "      <th>got_ner</th>\n",
       "      <th>is_being_worked</th>\n",
       "      <th>job_title</th>\n",
       "      <th>company</th>\n",
       "      <th>job_location</th>\n",
       "      <th>first_seen</th>\n",
       "      <th>search_city</th>\n",
       "      <th>search_country</th>\n",
       "      <th>search_position</th>\n",
       "      <th>job_level</th>\n",
       "      <th>job_type</th>\n",
       "    </tr>\n",
       "  </thead>\n",
       "  <tbody>\n",
       "    <tr>\n",
       "      <th>12212</th>\n",
       "      <td>https://uk.linkedin.com/jobs/view/data-reporti...</td>\n",
       "      <td>2024-01-21 07:11:22.099082+00</td>\n",
       "      <td>Finished NER</td>\n",
       "      <td>t</td>\n",
       "      <td>t</td>\n",
       "      <td>f</td>\n",
       "      <td>Data Reporting Manager, FOOTBALL ASSOCIATION</td>\n",
       "      <td>Guardian Jobs</td>\n",
       "      <td>Wembley, England, United Kingdom</td>\n",
       "      <td>2024-01-16</td>\n",
       "      <td>High Wycombe</td>\n",
       "      <td>United Kingdom</td>\n",
       "      <td>Manager Forms Analysis</td>\n",
       "      <td>Mid senior</td>\n",
       "      <td>Onsite</td>\n",
       "    </tr>\n",
       "    <tr>\n",
       "      <th>12213</th>\n",
       "      <td>https://www.linkedin.com/jobs/view/corporate-a...</td>\n",
       "      <td>2024-01-19 15:10:41.177008+00</td>\n",
       "      <td>Finished NER</td>\n",
       "      <td>t</td>\n",
       "      <td>t</td>\n",
       "      <td>f</td>\n",
       "      <td>Corporate AML Alert Investigation Specialist</td>\n",
       "      <td>Glacier Bancorp, Inc.</td>\n",
       "      <td>Kalispell, MT</td>\n",
       "      <td>2024-01-14</td>\n",
       "      <td>Montana</td>\n",
       "      <td>United States</td>\n",
       "      <td>Teller</td>\n",
       "      <td>Mid senior</td>\n",
       "      <td>Onsite</td>\n",
       "    </tr>\n",
       "    <tr>\n",
       "      <th>12214</th>\n",
       "      <td>https://www.linkedin.com/jobs/view/senior-data...</td>\n",
       "      <td>2024-01-20 15:20:19.036168+00</td>\n",
       "      <td>Finished NER</td>\n",
       "      <td>t</td>\n",
       "      <td>t</td>\n",
       "      <td>f</td>\n",
       "      <td>Senior Data Scientist</td>\n",
       "      <td>Highnote</td>\n",
       "      <td>San Francisco, CA</td>\n",
       "      <td>2024-01-16</td>\n",
       "      <td>San Rafael</td>\n",
       "      <td>United States</td>\n",
       "      <td>Mathematician</td>\n",
       "      <td>Mid senior</td>\n",
       "      <td>Onsite</td>\n",
       "    </tr>\n",
       "    <tr>\n",
       "      <th>12215</th>\n",
       "      <td>https://www.linkedin.com/jobs/view/senior-data...</td>\n",
       "      <td>2024-01-19 23:25:28.107523+00</td>\n",
       "      <td>Finished NER</td>\n",
       "      <td>t</td>\n",
       "      <td>t</td>\n",
       "      <td>f</td>\n",
       "      <td>Senior Data Engineer</td>\n",
       "      <td>CompSource Mutual Insurance Company</td>\n",
       "      <td>Oklahoma City, OK</td>\n",
       "      <td>2024-01-16</td>\n",
       "      <td>Arcadia</td>\n",
       "      <td>United States</td>\n",
       "      <td>Protection Engineer</td>\n",
       "      <td>Mid senior</td>\n",
       "      <td>Onsite</td>\n",
       "    </tr>\n",
       "    <tr>\n",
       "      <th>12216</th>\n",
       "      <td>https://www.linkedin.com/jobs/view/medical-tec...</td>\n",
       "      <td>2024-01-19 23:26:27.593516+00</td>\n",
       "      <td>Finished NER</td>\n",
       "      <td>t</td>\n",
       "      <td>t</td>\n",
       "      <td>f</td>\n",
       "      <td>Medical Technologist, MLS or MLT</td>\n",
       "      <td>Community Health Systems</td>\n",
       "      <td>Mooresville, NC</td>\n",
       "      <td>2024-01-14</td>\n",
       "      <td>Salisbury</td>\n",
       "      <td>United States</td>\n",
       "      <td>Biologist</td>\n",
       "      <td>Mid senior</td>\n",
       "      <td>Onsite</td>\n",
       "    </tr>\n",
       "  </tbody>\n",
       "</table>\n",
       "</div>"
      ],
      "text/plain": [
       "                                                job_link  \\\n",
       "12212  https://uk.linkedin.com/jobs/view/data-reporti...   \n",
       "12213  https://www.linkedin.com/jobs/view/corporate-a...   \n",
       "12214  https://www.linkedin.com/jobs/view/senior-data...   \n",
       "12215  https://www.linkedin.com/jobs/view/senior-data...   \n",
       "12216  https://www.linkedin.com/jobs/view/medical-tec...   \n",
       "\n",
       "                 last_processed_time   last_status got_summary got_ner  \\\n",
       "12212  2024-01-21 07:11:22.099082+00  Finished NER           t       t   \n",
       "12213  2024-01-19 15:10:41.177008+00  Finished NER           t       t   \n",
       "12214  2024-01-20 15:20:19.036168+00  Finished NER           t       t   \n",
       "12215  2024-01-19 23:25:28.107523+00  Finished NER           t       t   \n",
       "12216  2024-01-19 23:26:27.593516+00  Finished NER           t       t   \n",
       "\n",
       "      is_being_worked                                     job_title  \\\n",
       "12212               f  Data Reporting Manager, FOOTBALL ASSOCIATION   \n",
       "12213               f  Corporate AML Alert Investigation Specialist   \n",
       "12214               f                         Senior Data Scientist   \n",
       "12215               f                          Senior Data Engineer   \n",
       "12216               f              Medical Technologist, MLS or MLT   \n",
       "\n",
       "                                   company                      job_location  \\\n",
       "12212                        Guardian Jobs  Wembley, England, United Kingdom   \n",
       "12213                Glacier Bancorp, Inc.                     Kalispell, MT   \n",
       "12214                             Highnote                 San Francisco, CA   \n",
       "12215  CompSource Mutual Insurance Company                 Oklahoma City, OK   \n",
       "12216             Community Health Systems                   Mooresville, NC   \n",
       "\n",
       "       first_seen   search_city  search_country         search_position  \\\n",
       "12212  2024-01-16  High Wycombe  United Kingdom  Manager Forms Analysis   \n",
       "12213  2024-01-14       Montana   United States                  Teller   \n",
       "12214  2024-01-16    San Rafael   United States           Mathematician   \n",
       "12215  2024-01-16       Arcadia   United States     Protection Engineer   \n",
       "12216  2024-01-14     Salisbury   United States               Biologist   \n",
       "\n",
       "        job_level job_type  \n",
       "12212  Mid senior   Onsite  \n",
       "12213  Mid senior   Onsite  \n",
       "12214  Mid senior   Onsite  \n",
       "12215  Mid senior   Onsite  \n",
       "12216  Mid senior   Onsite  "
      ]
     },
     "execution_count": 7,
     "metadata": {},
     "output_type": "execute_result"
    }
   ],
   "source": [
    "df.tail()"
   ]
  },
  {
   "cell_type": "code",
   "execution_count": 8,
   "metadata": {},
   "outputs": [
    {
     "data": {
      "text/html": [
       "<div>\n",
       "<style scoped>\n",
       "    .dataframe tbody tr th:only-of-type {\n",
       "        vertical-align: middle;\n",
       "    }\n",
       "\n",
       "    .dataframe tbody tr th {\n",
       "        vertical-align: top;\n",
       "    }\n",
       "\n",
       "    .dataframe thead th {\n",
       "        text-align: right;\n",
       "    }\n",
       "</style>\n",
       "<table border=\"1\" class=\"dataframe\">\n",
       "  <thead>\n",
       "    <tr style=\"text-align: right;\">\n",
       "      <th></th>\n",
       "      <th>job_link</th>\n",
       "      <th>last_processed_time</th>\n",
       "      <th>last_status</th>\n",
       "      <th>got_summary</th>\n",
       "      <th>got_ner</th>\n",
       "      <th>is_being_worked</th>\n",
       "      <th>job_title</th>\n",
       "      <th>company</th>\n",
       "      <th>job_location</th>\n",
       "      <th>first_seen</th>\n",
       "      <th>search_city</th>\n",
       "      <th>search_country</th>\n",
       "      <th>search_position</th>\n",
       "      <th>job_level</th>\n",
       "      <th>job_type</th>\n",
       "    </tr>\n",
       "  </thead>\n",
       "  <tbody>\n",
       "    <tr>\n",
       "      <th>count</th>\n",
       "      <td>12217</td>\n",
       "      <td>12217</td>\n",
       "      <td>12217</td>\n",
       "      <td>12217</td>\n",
       "      <td>12217</td>\n",
       "      <td>12217</td>\n",
       "      <td>12217</td>\n",
       "      <td>12217</td>\n",
       "      <td>12216</td>\n",
       "      <td>12217</td>\n",
       "      <td>12217</td>\n",
       "      <td>12217</td>\n",
       "      <td>12217</td>\n",
       "      <td>12217</td>\n",
       "      <td>12217</td>\n",
       "    </tr>\n",
       "    <tr>\n",
       "      <th>unique</th>\n",
       "      <td>12217</td>\n",
       "      <td>5763</td>\n",
       "      <td>1</td>\n",
       "      <td>1</td>\n",
       "      <td>1</td>\n",
       "      <td>1</td>\n",
       "      <td>6484</td>\n",
       "      <td>3947</td>\n",
       "      <td>2049</td>\n",
       "      <td>6</td>\n",
       "      <td>801</td>\n",
       "      <td>4</td>\n",
       "      <td>711</td>\n",
       "      <td>2</td>\n",
       "      <td>3</td>\n",
       "    </tr>\n",
       "    <tr>\n",
       "      <th>top</th>\n",
       "      <td>https://www.linkedin.com/jobs/view/senior-mach...</td>\n",
       "      <td>2024-01-19 09:45:09.215838+00</td>\n",
       "      <td>Finished NER</td>\n",
       "      <td>t</td>\n",
       "      <td>t</td>\n",
       "      <td>f</td>\n",
       "      <td>Senior Data Engineer</td>\n",
       "      <td>Jobs for Humanity</td>\n",
       "      <td>New York, NY</td>\n",
       "      <td>2024-01-13</td>\n",
       "      <td>Greater London</td>\n",
       "      <td>United States</td>\n",
       "      <td>Data Entry Clerk</td>\n",
       "      <td>Mid senior</td>\n",
       "      <td>Onsite</td>\n",
       "    </tr>\n",
       "    <tr>\n",
       "      <th>freq</th>\n",
       "      <td>1</td>\n",
       "      <td>6455</td>\n",
       "      <td>12217</td>\n",
       "      <td>12217</td>\n",
       "      <td>12217</td>\n",
       "      <td>12217</td>\n",
       "      <td>285</td>\n",
       "      <td>732</td>\n",
       "      <td>280</td>\n",
       "      <td>4946</td>\n",
       "      <td>189</td>\n",
       "      <td>10291</td>\n",
       "      <td>1088</td>\n",
       "      <td>10919</td>\n",
       "      <td>12188</td>\n",
       "    </tr>\n",
       "  </tbody>\n",
       "</table>\n",
       "</div>"
      ],
      "text/plain": [
       "                                                 job_link  \\\n",
       "count                                               12217   \n",
       "unique                                              12217   \n",
       "top     https://www.linkedin.com/jobs/view/senior-mach...   \n",
       "freq                                                    1   \n",
       "\n",
       "                  last_processed_time   last_status got_summary got_ner  \\\n",
       "count                           12217         12217       12217   12217   \n",
       "unique                           5763             1           1       1   \n",
       "top     2024-01-19 09:45:09.215838+00  Finished NER           t       t   \n",
       "freq                             6455         12217       12217   12217   \n",
       "\n",
       "       is_being_worked             job_title            company  job_location  \\\n",
       "count            12217                 12217              12217         12216   \n",
       "unique               1                  6484               3947          2049   \n",
       "top                  f  Senior Data Engineer  Jobs for Humanity  New York, NY   \n",
       "freq             12217                   285                732           280   \n",
       "\n",
       "        first_seen     search_city search_country   search_position  \\\n",
       "count        12217           12217          12217             12217   \n",
       "unique           6             801              4               711   \n",
       "top     2024-01-13  Greater London  United States  Data Entry Clerk   \n",
       "freq          4946             189          10291              1088   \n",
       "\n",
       "         job_level job_type  \n",
       "count        12217    12217  \n",
       "unique           2        3  \n",
       "top     Mid senior   Onsite  \n",
       "freq         10919    12188  "
      ]
     },
     "execution_count": 8,
     "metadata": {},
     "output_type": "execute_result"
    }
   ],
   "source": [
    "df.describe()"
   ]
  },
  {
   "cell_type": "code",
   "execution_count": 9,
   "metadata": {},
   "outputs": [
    {
     "name": "stdout",
     "output_type": "stream",
     "text": [
      "job_type\n",
      "Onsite    12188\n",
      "Remote       18\n",
      "Hybrid       11\n",
      "Name: count, dtype: int64\n"
     ]
    }
   ],
   "source": [
    "print(df['job_type'].value_counts())"
   ]
  },
  {
   "cell_type": "markdown",
   "metadata": {},
   "source": [
    "OBSERVATION 1. Job link column represents postings on LinkedIn"
   ]
  },
  {
   "cell_type": "code",
   "execution_count": 10,
   "metadata": {},
   "outputs": [
    {
     "name": "stdout",
     "output_type": "stream",
     "text": [
      "job_link\n",
      "https://www.linkedin.com    10277\n",
      "https://uk.linkedin.com/      995\n",
      "https://ca.linkedin.com/      632\n",
      "https://au.linkedin.com/      301\n",
      "https://mx.linkedin.com/       10\n",
      "https://in.linkedin.com/        1\n",
      "https://it.linkedin.com/        1\n",
      "Name: count, dtype: int64\n"
     ]
    }
   ],
   "source": [
    "print(df['job_link'].str.slice(0, 24).value_counts())"
   ]
  },
  {
   "cell_type": "markdown",
   "metadata": {},
   "source": [
    "**OBSERVATION 2** last_status and is_being_worked columns contain only one value and can be removed from the analysis due to absence of any additional information and add value."
   ]
  },
  {
   "cell_type": "code",
   "execution_count": 11,
   "metadata": {},
   "outputs": [
    {
     "name": "stdout",
     "output_type": "stream",
     "text": [
      "last_status\n",
      "Finished NER    12217\n",
      "Name: count, dtype: int64\n"
     ]
    }
   ],
   "source": [
    "print(df['last_status'].value_counts())"
   ]
  },
  {
   "cell_type": "code",
   "execution_count": 12,
   "metadata": {},
   "outputs": [
    {
     "name": "stdout",
     "output_type": "stream",
     "text": [
      "is_being_worked\n",
      "f    12217\n",
      "Name: count, dtype: int64\n"
     ]
    }
   ],
   "source": [
    "print(df['is_being_worked'].value_counts())"
   ]
  },
  {
   "cell_type": "code",
   "execution_count": 13,
   "metadata": {},
   "outputs": [
    {
     "data": {
      "text/plain": [
       "job_link               12217\n",
       "last_processed_time     5763\n",
       "last_status                1\n",
       "got_summary                1\n",
       "got_ner                    1\n",
       "is_being_worked            1\n",
       "job_title               6484\n",
       "company                 3947\n",
       "job_location            2049\n",
       "first_seen                 6\n",
       "search_city              801\n",
       "search_country             4\n",
       "search_position          711\n",
       "job_level                  2\n",
       "job_type                   3\n",
       "dtype: int64"
      ]
     },
     "execution_count": 13,
     "metadata": {},
     "output_type": "execute_result"
    }
   ],
   "source": [
    "df.nunique()"
   ]
  },
  {
   "cell_type": "code",
   "execution_count": 14,
   "metadata": {},
   "outputs": [
    {
     "data": {
      "text/html": [
       "<div>\n",
       "<style scoped>\n",
       "    .dataframe tbody tr th:only-of-type {\n",
       "        vertical-align: middle;\n",
       "    }\n",
       "\n",
       "    .dataframe tbody tr th {\n",
       "        vertical-align: top;\n",
       "    }\n",
       "\n",
       "    .dataframe thead th {\n",
       "        text-align: right;\n",
       "    }\n",
       "</style>\n",
       "<table border=\"1\" class=\"dataframe\">\n",
       "  <thead>\n",
       "    <tr style=\"text-align: right;\">\n",
       "      <th></th>\n",
       "      <th>job_link</th>\n",
       "      <th>last_processed_time</th>\n",
       "      <th>last_status</th>\n",
       "      <th>got_summary</th>\n",
       "      <th>got_ner</th>\n",
       "      <th>is_being_worked</th>\n",
       "      <th>job_title</th>\n",
       "      <th>company</th>\n",
       "      <th>job_location</th>\n",
       "      <th>first_seen</th>\n",
       "      <th>search_city</th>\n",
       "      <th>search_country</th>\n",
       "      <th>search_position</th>\n",
       "      <th>job_level</th>\n",
       "      <th>job_type</th>\n",
       "    </tr>\n",
       "  </thead>\n",
       "  <tbody>\n",
       "  </tbody>\n",
       "</table>\n",
       "</div>"
      ],
      "text/plain": [
       "Empty DataFrame\n",
       "Columns: [job_link, last_processed_time, last_status, got_summary, got_ner, is_being_worked, job_title, company, job_location, first_seen, search_city, search_country, search_position, job_level, job_type]\n",
       "Index: []"
      ]
     },
     "execution_count": 14,
     "metadata": {},
     "output_type": "execute_result"
    }
   ],
   "source": [
    "# no duplicated rows identified\n",
    "df[df.duplicated()]"
   ]
  },
  {
   "cell_type": "markdown",
   "metadata": {},
   "source": [
    "Creating a function to plot histograms in order to perform visual analysis"
   ]
  },
  {
   "cell_type": "code",
   "execution_count": 15,
   "metadata": {},
   "outputs": [],
   "source": [
    "# A function to create a historgram\n",
    "def plot_histogram(df, column):\n",
    "    # Check if the column exists in the DataFrame\n",
    "    if column not in df.columns:\n",
    "        raise ValueError(f\"Column '{column}' does not exist in the DataFrame.\")\n",
    "    \n",
    "    # Count the occurrences of each value in the specified column\n",
    "    value_counts = df[column].value_counts()\n",
    "    \n",
    "    # Create a bar plot\n",
    "    plt.figure(figsize=(10, 6))\n",
    "    sns.barplot(x=value_counts.index, y=value_counts.values, color='blue')  # Using color instead of palette\n",
    "    \n",
    "    # Adding titles and labels\n",
    "    plt.title(f'Values in {column}')\n",
    "    plt.xlabel(column)\n",
    "    plt.ylabel('Count')\n",
    "    plt.xticks(rotation=45)\n",
    "    \n",
    "    # Show the plot\n",
    "    plt.tight_layout()\n",
    "    plt.show()"
   ]
  },
  {
   "cell_type": "code",
   "execution_count": 16,
   "metadata": {},
   "outputs": [
    {
     "data": {
      "image/png": "[encoded data removed]",
      "text/plain": [
       "<Figure size 1000x600 with 1 Axes>"
      ]
     },
     "metadata": {},
     "output_type": "display_data"
    }
   ],
   "source": [
    "plot_histogram(df, 'search_country')"
   ]
  },
  {
   "cell_type": "code",
   "execution_count": 17,
   "metadata": {},
   "outputs": [
    {
     "data": {
      "text/html": [
       "<div>\n",
       "<style scoped>\n",
       "    .dataframe tbody tr th:only-of-type {\n",
       "        vertical-align: middle;\n",
       "    }\n",
       "\n",
       "    .dataframe tbody tr th {\n",
       "        vertical-align: top;\n",
       "    }\n",
       "\n",
       "    .dataframe thead th {\n",
       "        text-align: right;\n",
       "    }\n",
       "</style>\n",
       "<table border=\"1\" class=\"dataframe\">\n",
       "  <thead>\n",
       "    <tr style=\"text-align: right;\">\n",
       "      <th></th>\n",
       "      <th>Job Title</th>\n",
       "      <th>Employment Type</th>\n",
       "      <th>Experience Level</th>\n",
       "      <th>Expertise Level</th>\n",
       "      <th>Salary</th>\n",
       "      <th>Salary Currency</th>\n",
       "      <th>Company Location</th>\n",
       "      <th>Salary in USD</th>\n",
       "      <th>Employee Residence</th>\n",
       "      <th>Company Size</th>\n",
       "    </tr>\n",
       "  </thead>\n",
       "  <tbody>\n",
       "    <tr>\n",
       "      <th>count</th>\n",
       "      <td>600</td>\n",
       "      <td>600</td>\n",
       "      <td>600</td>\n",
       "      <td>600</td>\n",
       "      <td>600</td>\n",
       "      <td>600</td>\n",
       "      <td>600</td>\n",
       "      <td>600</td>\n",
       "      <td>600</td>\n",
       "      <td>600</td>\n",
       "    </tr>\n",
       "    <tr>\n",
       "      <th>unique</th>\n",
       "      <td>13</td>\n",
       "      <td>1</td>\n",
       "      <td>3</td>\n",
       "      <td>3</td>\n",
       "      <td>40</td>\n",
       "      <td>4</td>\n",
       "      <td>5</td>\n",
       "      <td>41</td>\n",
       "      <td>4</td>\n",
       "      <td>2</td>\n",
       "    </tr>\n",
       "    <tr>\n",
       "      <th>top</th>\n",
       "      <td>Data Engineer</td>\n",
       "      <td>Full-Time</td>\n",
       "      <td>Senior</td>\n",
       "      <td>Expert</td>\n",
       "      <td>172200</td>\n",
       "      <td>United States Dollar</td>\n",
       "      <td>United States</td>\n",
       "      <td>172200</td>\n",
       "      <td>United States</td>\n",
       "      <td>Medium</td>\n",
       "    </tr>\n",
       "    <tr>\n",
       "      <th>freq</th>\n",
       "      <td>144</td>\n",
       "      <td>600</td>\n",
       "      <td>528</td>\n",
       "      <td>528</td>\n",
       "      <td>24</td>\n",
       "      <td>528</td>\n",
       "      <td>480</td>\n",
       "      <td>24</td>\n",
       "      <td>480</td>\n",
       "      <td>564</td>\n",
       "    </tr>\n",
       "  </tbody>\n",
       "</table>\n",
       "</div>"
      ],
      "text/plain": [
       "            Job Title Employment Type Experience Level Expertise Level  \\\n",
       "count             600             600              600             600   \n",
       "unique             13               1                3               3   \n",
       "top     Data Engineer       Full-Time           Senior          Expert   \n",
       "freq              144             600              528             528   \n",
       "\n",
       "        Salary       Salary Currency Company Location Salary in USD  \\\n",
       "count      600                   600              600           600   \n",
       "unique      40                     4                5            41   \n",
       "top     172200  United States Dollar    United States        172200   \n",
       "freq        24                   528              480            24   \n",
       "\n",
       "       Employee Residence Company Size  \n",
       "count                 600          600  \n",
       "unique                  4            2  \n",
       "top         United States       Medium  \n",
       "freq                  480          564  "
      ]
     },
     "execution_count": 17,
     "metadata": {},
     "output_type": "execute_result"
    }
   ],
   "source": [
    "df_2.describe()"
   ]
  },
  {
   "cell_type": "code",
   "execution_count": 18,
   "metadata": {},
   "outputs": [
    {
     "name": "stdout",
     "output_type": "stream",
     "text": [
      "Employee Residence\n",
      "United States     480\n",
      "United Kingdom     84\n",
      "Germany            24\n",
      "India              12\n",
      "Name: count, dtype: int64\n"
     ]
    }
   ],
   "source": [
    "print(df_2['Employee Residence'].value_counts())"
   ]
  },
  {
   "cell_type": "markdown",
   "metadata": {},
   "source": [
    "**OBSERVATION 3** Both datasets contain US and UK countries, relevant for the purpose of our analysis, where other countries can be disregarded and removed from the datasets."
   ]
  },
  {
   "cell_type": "markdown",
   "metadata": {
    "id": "adaK2iPNzVu4"
   },
   "source": [
    "### Quality Issue 1: Job Location column of our first data set has a missing value:"
   ]
  },
  {
   "cell_type": "code",
   "execution_count": 19,
   "metadata": {
    "id": "SpW59kh-zl8d"
   },
   "outputs": [],
   "source": [
    "#General inspection of the dataframe visually was performed in the steps above"
   ]
  },
  {
   "cell_type": "code",
   "execution_count": 20,
   "metadata": {
    "id": "-qfcocStzsKg"
   },
   "outputs": [
    {
     "data": {
      "text/plain": [
       "job_link               0\n",
       "last_processed_time    0\n",
       "last_status            0\n",
       "got_summary            0\n",
       "got_ner                0\n",
       "is_being_worked        0\n",
       "job_title              0\n",
       "company                0\n",
       "job_location           1\n",
       "first_seen             0\n",
       "search_city            0\n",
       "search_country         0\n",
       "search_position        0\n",
       "job_level              0\n",
       "job_type               0\n",
       "dtype: int64"
      ]
     },
     "execution_count": 20,
     "metadata": {},
     "output_type": "execute_result"
    }
   ],
   "source": [
    "#Job location has one missing value while Inspecting the dataframe programmatically\n",
    "df.isnull().sum()"
   ]
  },
  {
   "cell_type": "code",
   "execution_count": 21,
   "metadata": {},
   "outputs": [
    {
     "data": {
      "text/html": [
       "<div>\n",
       "<style scoped>\n",
       "    .dataframe tbody tr th:only-of-type {\n",
       "        vertical-align: middle;\n",
       "    }\n",
       "\n",
       "    .dataframe tbody tr th {\n",
       "        vertical-align: top;\n",
       "    }\n",
       "\n",
       "    .dataframe thead th {\n",
       "        text-align: right;\n",
       "    }\n",
       "</style>\n",
       "<table border=\"1\" class=\"dataframe\">\n",
       "  <thead>\n",
       "    <tr style=\"text-align: right;\">\n",
       "      <th></th>\n",
       "      <th>job_link</th>\n",
       "      <th>last_processed_time</th>\n",
       "      <th>last_status</th>\n",
       "      <th>got_summary</th>\n",
       "      <th>got_ner</th>\n",
       "      <th>is_being_worked</th>\n",
       "      <th>job_title</th>\n",
       "      <th>company</th>\n",
       "      <th>job_location</th>\n",
       "      <th>first_seen</th>\n",
       "      <th>search_city</th>\n",
       "      <th>search_country</th>\n",
       "      <th>search_position</th>\n",
       "      <th>job_level</th>\n",
       "      <th>job_type</th>\n",
       "    </tr>\n",
       "  </thead>\n",
       "  <tbody>\n",
       "    <tr>\n",
       "      <th>9885</th>\n",
       "      <td>https://www.linkedin.com/jobs/view/sr-data-eng...</td>\n",
       "      <td>2024-01-20 04:25:45.213731+00</td>\n",
       "      <td>Finished NER</td>\n",
       "      <td>t</td>\n",
       "      <td>t</td>\n",
       "      <td>f</td>\n",
       "      <td>Sr. Data Engineer, Abuse Test &amp; Engineering</td>\n",
       "      <td>Tesla</td>\n",
       "      <td>NaN</td>\n",
       "      <td>2024-01-17</td>\n",
       "      <td>Alameda</td>\n",
       "      <td>United States</td>\n",
       "      <td>Test Engineer Mechanical Equipment</td>\n",
       "      <td>Mid senior</td>\n",
       "      <td>Onsite</td>\n",
       "    </tr>\n",
       "  </tbody>\n",
       "</table>\n",
       "</div>"
      ],
      "text/plain": [
       "                                               job_link  \\\n",
       "9885  https://www.linkedin.com/jobs/view/sr-data-eng...   \n",
       "\n",
       "                last_processed_time   last_status got_summary got_ner  \\\n",
       "9885  2024-01-20 04:25:45.213731+00  Finished NER           t       t   \n",
       "\n",
       "     is_being_worked                                    job_title company  \\\n",
       "9885               f  Sr. Data Engineer, Abuse Test & Engineering   Tesla   \n",
       "\n",
       "     job_location  first_seen search_city search_country  \\\n",
       "9885          NaN  2024-01-17     Alameda  United States   \n",
       "\n",
       "                         search_position   job_level job_type  \n",
       "9885  Test Engineer Mechanical Equipment  Mid senior   Onsite  "
      ]
     },
     "execution_count": 21,
     "metadata": {},
     "output_type": "execute_result"
    }
   ],
   "source": [
    "df[df['job_location'].isnull()]"
   ]
  },
  {
   "cell_type": "markdown",
   "metadata": {},
   "source": [
    "Issue and justification: *Job Location column has one missing value* based on the inspecting data using isnull method. We used this method as it will be time-consuming and error prone to inspect a full dataset for missing values manually."
   ]
  },
  {
   "cell_type": "markdown",
   "metadata": {
    "id": "8Be77N4I1AmE"
   },
   "source": [
    "### Quality Issue 2: \n",
    "Columns referring to Job/Expertise level in both datasets although similar in terms of the distribution (junior to mid allocation) were not filled using exactly the same naming convention. Our assumption is that those levels in each dataset are similar from the definition standpoint, but need to be aligned in regards to naming."
   ]
  },
  {
   "cell_type": "code",
   "execution_count": 22,
   "metadata": {
    "id": "iMhHyiyLM2I3"
   },
   "outputs": [
    {
     "data": {
      "image/png": "[encoded data removed]",
      "text/plain": [
       "<Figure size 1000x600 with 1 Axes>"
      ]
     },
     "metadata": {},
     "output_type": "display_data"
    }
   ],
   "source": [
    "#Histogram for Job level in the 1st dataset - Inspecting the dataframe visually\n",
    "plot_histogram(df, 'job_level')"
   ]
  },
  {
   "cell_type": "code",
   "execution_count": 23,
   "metadata": {},
   "outputs": [
    {
     "data": {
      "image/png": "[encoded data removed]",
      "text/plain": [
       "<Figure size 1000x600 with 1 Axes>"
      ]
     },
     "metadata": {},
     "output_type": "display_data"
    }
   ],
   "source": [
    "plot_histogram(df_2, 'Expertise Level')"
   ]
  },
  {
   "cell_type": "code",
   "execution_count": 24,
   "metadata": {
    "id": "bnviRCUI-bb7"
   },
   "outputs": [
    {
     "name": "stdout",
     "output_type": "stream",
     "text": [
      "job_level\n",
      "Mid senior    10919\n",
      "Associate      1298\n",
      "Name: count, dtype: int64\n"
     ]
    }
   ],
   "source": [
    "# Inspecting the dataframe programmatically\n",
    "print(df['job_level'].value_counts())"
   ]
  },
  {
   "cell_type": "code",
   "execution_count": 25,
   "metadata": {},
   "outputs": [
    {
     "name": "stdout",
     "output_type": "stream",
     "text": [
      "Expertise Level\n",
      "Expert          528\n",
      "Intermediate     48\n",
      "Director         24\n",
      "Name: count, dtype: int64\n"
     ]
    }
   ],
   "source": [
    "print(df_2['Expertise Level'].value_counts())"
   ]
  },
  {
   "cell_type": "markdown",
   "metadata": {},
   "source": [
    "**Issue and justification**: For the purpose of this analysis we need to combine both datasets based on the job level of data scientists. While Job/Expertise level columns have similar levels, naming convention is different. Our assumption is that these columns should be aligned to ensure consolidation and they have similar terminology behind those categories. We have used Histogram and counting value of each level to identify existing levels in both datasets. This helped us to see visually and programmatically number of categories and the distribution."
   ]
  },
  {
   "cell_type": "markdown",
   "metadata": {
    "id": "lXhGiYyiwwKN"
   },
   "source": [
    "### Tidiness Issue 1: Incorrect data types in both datasets"
   ]
  },
  {
   "cell_type": "code",
   "execution_count": 26,
   "metadata": {
    "id": "fleC5rORI0Xl"
   },
   "outputs": [
    {
     "data": {
      "text/html": [
       "<div>\n",
       "<style scoped>\n",
       "    .dataframe tbody tr th:only-of-type {\n",
       "        vertical-align: middle;\n",
       "    }\n",
       "\n",
       "    .dataframe tbody tr th {\n",
       "        vertical-align: top;\n",
       "    }\n",
       "\n",
       "    .dataframe thead th {\n",
       "        text-align: right;\n",
       "    }\n",
       "</style>\n",
       "<table border=\"1\" class=\"dataframe\">\n",
       "  <thead>\n",
       "    <tr style=\"text-align: right;\">\n",
       "      <th></th>\n",
       "      <th>job_link</th>\n",
       "      <th>last_processed_time</th>\n",
       "      <th>last_status</th>\n",
       "      <th>got_summary</th>\n",
       "      <th>got_ner</th>\n",
       "      <th>is_being_worked</th>\n",
       "      <th>job_title</th>\n",
       "      <th>company</th>\n",
       "      <th>job_location</th>\n",
       "      <th>first_seen</th>\n",
       "      <th>search_city</th>\n",
       "      <th>search_country</th>\n",
       "      <th>search_position</th>\n",
       "      <th>job_level</th>\n",
       "      <th>job_type</th>\n",
       "    </tr>\n",
       "  </thead>\n",
       "  <tbody>\n",
       "    <tr>\n",
       "      <th>0</th>\n",
       "      <td>https://www.linkedin.com/jobs/view/senior-mach...</td>\n",
       "      <td>2024-01-21 08:08:48.031964+00</td>\n",
       "      <td>Finished NER</td>\n",
       "      <td>t</td>\n",
       "      <td>t</td>\n",
       "      <td>f</td>\n",
       "      <td>Senior Machine Learning Engineer</td>\n",
       "      <td>Jobs for Humanity</td>\n",
       "      <td>New Haven, CT</td>\n",
       "      <td>2024-01-14</td>\n",
       "      <td>East Haven</td>\n",
       "      <td>United States</td>\n",
       "      <td>Agricultural-Research Engineer</td>\n",
       "      <td>Mid senior</td>\n",
       "      <td>Onsite</td>\n",
       "    </tr>\n",
       "    <tr>\n",
       "      <th>1</th>\n",
       "      <td>https://www.linkedin.com/jobs/view/principal-s...</td>\n",
       "      <td>2024-01-20 04:02:12.331406+00</td>\n",
       "      <td>Finished NER</td>\n",
       "      <td>t</td>\n",
       "      <td>t</td>\n",
       "      <td>f</td>\n",
       "      <td>Principal Software Engineer, ML Accelerators</td>\n",
       "      <td>Aurora</td>\n",
       "      <td>San Francisco, CA</td>\n",
       "      <td>2024-01-14</td>\n",
       "      <td>El Cerrito</td>\n",
       "      <td>United States</td>\n",
       "      <td>Set-Key Driver</td>\n",
       "      <td>Mid senior</td>\n",
       "      <td>Onsite</td>\n",
       "    </tr>\n",
       "    <tr>\n",
       "      <th>2</th>\n",
       "      <td>https://www.linkedin.com/jobs/view/senior-etl-...</td>\n",
       "      <td>2024-01-21 08:08:31.941595+00</td>\n",
       "      <td>Finished NER</td>\n",
       "      <td>t</td>\n",
       "      <td>t</td>\n",
       "      <td>f</td>\n",
       "      <td>Senior ETL Data Warehouse Specialist</td>\n",
       "      <td>Adame Services LLC</td>\n",
       "      <td>New York, NY</td>\n",
       "      <td>2024-01-14</td>\n",
       "      <td>Middletown</td>\n",
       "      <td>United States</td>\n",
       "      <td>Technical Support Specialist</td>\n",
       "      <td>Associate</td>\n",
       "      <td>Onsite</td>\n",
       "    </tr>\n",
       "    <tr>\n",
       "      <th>3</th>\n",
       "      <td>https://www.linkedin.com/jobs/view/senior-data...</td>\n",
       "      <td>2024-01-20 15:30:55.796572+00</td>\n",
       "      <td>Finished NER</td>\n",
       "      <td>t</td>\n",
       "      <td>t</td>\n",
       "      <td>f</td>\n",
       "      <td>Senior Data Warehouse Developer / Architect</td>\n",
       "      <td>Morph Enterprise</td>\n",
       "      <td>Harrisburg, PA</td>\n",
       "      <td>2024-01-12</td>\n",
       "      <td>Lebanon</td>\n",
       "      <td>United States</td>\n",
       "      <td>Architect</td>\n",
       "      <td>Mid senior</td>\n",
       "      <td>Onsite</td>\n",
       "    </tr>\n",
       "    <tr>\n",
       "      <th>4</th>\n",
       "      <td>https://www.linkedin.com/jobs/view/lead-data-e...</td>\n",
       "      <td>2024-01-21 08:08:58.312124+00</td>\n",
       "      <td>Finished NER</td>\n",
       "      <td>t</td>\n",
       "      <td>t</td>\n",
       "      <td>f</td>\n",
       "      <td>Lead Data Engineer</td>\n",
       "      <td>Dice</td>\n",
       "      <td>Plano, TX</td>\n",
       "      <td>2024-01-14</td>\n",
       "      <td>McKinney</td>\n",
       "      <td>United States</td>\n",
       "      <td>Maintenance Data Analyst</td>\n",
       "      <td>Mid senior</td>\n",
       "      <td>Onsite</td>\n",
       "    </tr>\n",
       "  </tbody>\n",
       "</table>\n",
       "</div>"
      ],
      "text/plain": [
       "                                            job_link  \\\n",
       "0  https://www.linkedin.com/jobs/view/senior-mach...   \n",
       "1  https://www.linkedin.com/jobs/view/principal-s...   \n",
       "2  https://www.linkedin.com/jobs/view/senior-etl-...   \n",
       "3  https://www.linkedin.com/jobs/view/senior-data...   \n",
       "4  https://www.linkedin.com/jobs/view/lead-data-e...   \n",
       "\n",
       "             last_processed_time   last_status got_summary got_ner  \\\n",
       "0  2024-01-21 08:08:48.031964+00  Finished NER           t       t   \n",
       "1  2024-01-20 04:02:12.331406+00  Finished NER           t       t   \n",
       "2  2024-01-21 08:08:31.941595+00  Finished NER           t       t   \n",
       "3  2024-01-20 15:30:55.796572+00  Finished NER           t       t   \n",
       "4  2024-01-21 08:08:58.312124+00  Finished NER           t       t   \n",
       "\n",
       "  is_being_worked                                     job_title  \\\n",
       "0               f              Senior Machine Learning Engineer   \n",
       "1               f  Principal Software Engineer, ML Accelerators   \n",
       "2               f          Senior ETL Data Warehouse Specialist   \n",
       "3               f   Senior Data Warehouse Developer / Architect   \n",
       "4               f                            Lead Data Engineer   \n",
       "\n",
       "              company       job_location  first_seen search_city  \\\n",
       "0   Jobs for Humanity      New Haven, CT  2024-01-14  East Haven   \n",
       "1              Aurora  San Francisco, CA  2024-01-14  El Cerrito   \n",
       "2  Adame Services LLC       New York, NY  2024-01-14  Middletown   \n",
       "3    Morph Enterprise     Harrisburg, PA  2024-01-12     Lebanon   \n",
       "4                Dice          Plano, TX  2024-01-14    McKinney   \n",
       "\n",
       "  search_country                 search_position   job_level job_type  \n",
       "0  United States  Agricultural-Research Engineer  Mid senior   Onsite  \n",
       "1  United States                  Set-Key Driver  Mid senior   Onsite  \n",
       "2  United States    Technical Support Specialist   Associate   Onsite  \n",
       "3  United States                       Architect  Mid senior   Onsite  \n",
       "4  United States        Maintenance Data Analyst  Mid senior   Onsite  "
      ]
     },
     "execution_count": 26,
     "metadata": {},
     "output_type": "execute_result"
    }
   ],
   "source": [
    "#Inspecting the dataframe visually\n",
    "df.head()"
   ]
  },
  {
   "cell_type": "code",
   "execution_count": 27,
   "metadata": {},
   "outputs": [
    {
     "data": {
      "text/html": [
       "<div>\n",
       "<style scoped>\n",
       "    .dataframe tbody tr th:only-of-type {\n",
       "        vertical-align: middle;\n",
       "    }\n",
       "\n",
       "    .dataframe tbody tr th {\n",
       "        vertical-align: top;\n",
       "    }\n",
       "\n",
       "    .dataframe thead th {\n",
       "        text-align: right;\n",
       "    }\n",
       "</style>\n",
       "<table border=\"1\" class=\"dataframe\">\n",
       "  <thead>\n",
       "    <tr style=\"text-align: right;\">\n",
       "      <th></th>\n",
       "      <th>Job Title</th>\n",
       "      <th>Employment Type</th>\n",
       "      <th>Experience Level</th>\n",
       "      <th>Expertise Level</th>\n",
       "      <th>Salary</th>\n",
       "      <th>Salary Currency</th>\n",
       "      <th>Company Location</th>\n",
       "      <th>Salary in USD</th>\n",
       "      <th>Employee Residence</th>\n",
       "      <th>Company Size</th>\n",
       "    </tr>\n",
       "  </thead>\n",
       "  <tbody>\n",
       "    <tr>\n",
       "      <th>0</th>\n",
       "      <td>Data Engineer</td>\n",
       "      <td>Full-Time</td>\n",
       "      <td>Senior</td>\n",
       "      <td>Expert</td>\n",
       "      <td>210000</td>\n",
       "      <td>United States Dollar</td>\n",
       "      <td>United States</td>\n",
       "      <td>210000</td>\n",
       "      <td>United States</td>\n",
       "      <td>Medium</td>\n",
       "    </tr>\n",
       "    <tr>\n",
       "      <th>1</th>\n",
       "      <td>Data Engineer</td>\n",
       "      <td>Full-Time</td>\n",
       "      <td>Senior</td>\n",
       "      <td>Expert</td>\n",
       "      <td>165000</td>\n",
       "      <td>United States Dollar</td>\n",
       "      <td>United States</td>\n",
       "      <td>165000</td>\n",
       "      <td>United States</td>\n",
       "      <td>Medium</td>\n",
       "    </tr>\n",
       "    <tr>\n",
       "      <th>2</th>\n",
       "      <td>Data Engineer</td>\n",
       "      <td>Full-Time</td>\n",
       "      <td>Senior</td>\n",
       "      <td>Expert</td>\n",
       "      <td>185900</td>\n",
       "      <td>United States Dollar</td>\n",
       "      <td>United States</td>\n",
       "      <td>185900</td>\n",
       "      <td>United States</td>\n",
       "      <td>Medium</td>\n",
       "    </tr>\n",
       "    <tr>\n",
       "      <th>3</th>\n",
       "      <td>Data Engineer</td>\n",
       "      <td>Full-Time</td>\n",
       "      <td>Senior</td>\n",
       "      <td>Expert</td>\n",
       "      <td>129300</td>\n",
       "      <td>United States Dollar</td>\n",
       "      <td>United States</td>\n",
       "      <td>129300</td>\n",
       "      <td>United States</td>\n",
       "      <td>Medium</td>\n",
       "    </tr>\n",
       "    <tr>\n",
       "      <th>4</th>\n",
       "      <td>Data Scientist</td>\n",
       "      <td>Full-Time</td>\n",
       "      <td>Senior</td>\n",
       "      <td>Expert</td>\n",
       "      <td>140000</td>\n",
       "      <td>United States Dollar</td>\n",
       "      <td>United States</td>\n",
       "      <td>140000</td>\n",
       "      <td>United States</td>\n",
       "      <td>Medium</td>\n",
       "    </tr>\n",
       "  </tbody>\n",
       "</table>\n",
       "</div>"
      ],
      "text/plain": [
       "        Job Title Employment Type Experience Level Expertise Level  Salary  \\\n",
       "0   Data Engineer       Full-Time           Senior          Expert  210000   \n",
       "1   Data Engineer       Full-Time           Senior          Expert  165000   \n",
       "2   Data Engineer       Full-Time           Senior          Expert  185900   \n",
       "3   Data Engineer       Full-Time           Senior          Expert  129300   \n",
       "4  Data Scientist       Full-Time           Senior          Expert  140000   \n",
       "\n",
       "        Salary Currency Company Location Salary in USD Employee Residence  \\\n",
       "0  United States Dollar    United States        210000      United States   \n",
       "1  United States Dollar    United States        165000      United States   \n",
       "2  United States Dollar    United States        185900      United States   \n",
       "3  United States Dollar    United States        129300      United States   \n",
       "4  United States Dollar    United States        140000      United States   \n",
       "\n",
       "  Company Size  \n",
       "0       Medium  \n",
       "1       Medium  \n",
       "2       Medium  \n",
       "3       Medium  \n",
       "4       Medium  "
      ]
     },
     "execution_count": 27,
     "metadata": {},
     "output_type": "execute_result"
    }
   ],
   "source": [
    "df_2.head()"
   ]
  },
  {
   "cell_type": "code",
   "execution_count": 28,
   "metadata": {
    "id": "BTuQw7Rbsio4"
   },
   "outputs": [
    {
     "name": "stdout",
     "output_type": "stream",
     "text": [
      "<class 'pandas.core.frame.DataFrame'>\n",
      "RangeIndex: 12217 entries, 0 to 12216\n",
      "Data columns (total 15 columns):\n",
      " #   Column               Non-Null Count  Dtype \n",
      "---  ------               --------------  ----- \n",
      " 0   job_link             12217 non-null  object\n",
      " 1   last_processed_time  12217 non-null  object\n",
      " 2   last_status          12217 non-null  object\n",
      " 3   got_summary          12217 non-null  object\n",
      " 4   got_ner              12217 non-null  object\n",
      " 5   is_being_worked      12217 non-null  object\n",
      " 6   job_title            12217 non-null  object\n",
      " 7   company              12217 non-null  object\n",
      " 8   job_location         12216 non-null  object\n",
      " 9   first_seen           12217 non-null  object\n",
      " 10  search_city          12217 non-null  object\n",
      " 11  search_country       12217 non-null  object\n",
      " 12  search_position      12217 non-null  object\n",
      " 13  job_level            12217 non-null  object\n",
      " 14  job_type             12217 non-null  object\n",
      "dtypes: object(15)\n",
      "memory usage: 1.4+ MB\n"
     ]
    }
   ],
   "source": [
    "#Inspecting the dataframe programmatically\n",
    "df.info()"
   ]
  },
  {
   "cell_type": "code",
   "execution_count": 29,
   "metadata": {},
   "outputs": [
    {
     "name": "stdout",
     "output_type": "stream",
     "text": [
      "last_processed_time\n",
      "2024-01-19    8235\n",
      "2024-01-20    2186\n",
      "2024-01-21    1796\n",
      "Name: count, dtype: int64\n"
     ]
    }
   ],
   "source": [
    "# to analyse values in last_processed_time\n",
    "print(df['last_processed_time'].str.slice(0, 10).value_counts())"
   ]
  },
  {
   "cell_type": "code",
   "execution_count": 30,
   "metadata": {},
   "outputs": [
    {
     "data": {
      "text/plain": [
       "first_seen\n",
       "2024-01-13    4946\n",
       "2024-01-14    3194\n",
       "2024-01-12    1722\n",
       "2024-01-16    1211\n",
       "2024-01-15     871\n",
       "2024-01-17     273\n",
       "Name: count, dtype: int64"
      ]
     },
     "execution_count": 30,
     "metadata": {},
     "output_type": "execute_result"
    }
   ],
   "source": [
    "# to analyse values in first_seen column\n",
    "df['first_seen'].value_counts()"
   ]
  },
  {
   "cell_type": "code",
   "execution_count": 31,
   "metadata": {},
   "outputs": [
    {
     "name": "stdout",
     "output_type": "stream",
     "text": [
      "<class 'pandas.core.frame.DataFrame'>\n",
      "RangeIndex: 600 entries, 0 to 599\n",
      "Data columns (total 10 columns):\n",
      " #   Column              Non-Null Count  Dtype \n",
      "---  ------              --------------  ----- \n",
      " 0   Job Title           600 non-null    object\n",
      " 1   Employment Type     600 non-null    object\n",
      " 2   Experience Level    600 non-null    object\n",
      " 3   Expertise Level     600 non-null    object\n",
      " 4   Salary              600 non-null    object\n",
      " 5   Salary Currency     600 non-null    object\n",
      " 6   Company Location    600 non-null    object\n",
      " 7   Salary in USD       600 non-null    object\n",
      " 8   Employee Residence  600 non-null    object\n",
      " 9   Company Size        600 non-null    object\n",
      "dtypes: object(10)\n",
      "memory usage: 47.0+ KB\n"
     ]
    }
   ],
   "source": [
    "df_2.info()"
   ]
  },
  {
   "cell_type": "markdown",
   "metadata": {},
   "source": [
    "Issue and justification: *Incorrect data types* for both datasets. \n",
    "\n",
    "First dataset contains: last_processed_time and first_seen, which after the visual inspection have date time and date values respectively, but have object data types according to a programatical inspection.\n",
    "\n",
    "Second dataset contains Salary and Salary in USD columns. Both columns have object data type and for that reason cannot be used for deriving average salaries and other statistics, required for our analysis. We used visual inspection of the data, combining information about data types programmatically to identify incorrect data types used. According to the visual inspection, we see numerical values in Salary and Salary in USD columns, while they have an object data type as per programmatical inspection."
   ]
  },
  {
   "cell_type": "markdown",
   "metadata": {
    "id": "4ffMoRGSwzYj"
   },
   "source": [
    "### Tidiness Issue 2: Job Location column contains City and State/Country information in one column"
   ]
  },
  {
   "cell_type": "code",
   "execution_count": 32,
   "metadata": {
    "id": "XUpeoqokw5Qt"
   },
   "outputs": [
    {
     "name": "stdout",
     "output_type": "stream",
     "text": [
      "                         job_location  search_country\n",
      "3423                      Norfolk, VA   United States\n",
      "1958         Gatineau, Quebec, Canada          Canada\n",
      "449                   Kansas City, MO   United States\n",
      "4744                       McLean, VA   United States\n",
      "3871  London, England, United Kingdom  United Kingdom\n"
     ]
    }
   ],
   "source": [
    "# Inspecting the dataframe visually, using random sample of rows to view job_location column contents in relation to country column\n",
    "print(df[['job_location', 'search_country']].sample(n=5, random_state=502))"
   ]
  },
  {
   "cell_type": "code",
   "execution_count": 33,
   "metadata": {
    "id": "c8JK4DoXxtFA"
   },
   "outputs": [
    {
     "data": {
      "text/html": [
       "<div>\n",
       "<style scoped>\n",
       "    .dataframe tbody tr th:only-of-type {\n",
       "        vertical-align: middle;\n",
       "    }\n",
       "\n",
       "    .dataframe tbody tr th {\n",
       "        vertical-align: top;\n",
       "    }\n",
       "\n",
       "    .dataframe thead th {\n",
       "        text-align: right;\n",
       "    }\n",
       "</style>\n",
       "<table border=\"1\" class=\"dataframe\">\n",
       "  <thead>\n",
       "    <tr style=\"text-align: right;\">\n",
       "      <th></th>\n",
       "      <th>job_location</th>\n",
       "      <th>search_city</th>\n",
       "      <th>search_country</th>\n",
       "      <th>count</th>\n",
       "    </tr>\n",
       "  </thead>\n",
       "  <tbody>\n",
       "    <tr>\n",
       "      <th>0</th>\n",
       "      <td>Abbots Salford, England, United Kingdom</td>\n",
       "      <td>Gloucester</td>\n",
       "      <td>United Kingdom</td>\n",
       "      <td>2</td>\n",
       "    </tr>\n",
       "    <tr>\n",
       "      <th>1</th>\n",
       "      <td>Abbotsford, British Columbia, Canada</td>\n",
       "      <td>Langley</td>\n",
       "      <td>Canada</td>\n",
       "      <td>1</td>\n",
       "    </tr>\n",
       "    <tr>\n",
       "      <th>2</th>\n",
       "      <td>Aberdeen, Scotland, United Kingdom</td>\n",
       "      <td>Aberdeen</td>\n",
       "      <td>United Kingdom</td>\n",
       "      <td>7</td>\n",
       "    </tr>\n",
       "    <tr>\n",
       "      <th>3</th>\n",
       "      <td>Adelaide, South Australia, Australia</td>\n",
       "      <td>Redcliffe</td>\n",
       "      <td>Australia</td>\n",
       "      <td>2</td>\n",
       "    </tr>\n",
       "    <tr>\n",
       "      <th>4</th>\n",
       "      <td>Adelaide, South Australia, Australia</td>\n",
       "      <td>South Australia</td>\n",
       "      <td>Australia</td>\n",
       "      <td>3</td>\n",
       "    </tr>\n",
       "    <tr>\n",
       "      <th>...</th>\n",
       "      <td>...</td>\n",
       "      <td>...</td>\n",
       "      <td>...</td>\n",
       "      <td>...</td>\n",
       "    </tr>\n",
       "    <tr>\n",
       "      <th>566</th>\n",
       "      <td>Woughton on the Green, England, United Kingdom</td>\n",
       "      <td>Milton Keynes</td>\n",
       "      <td>United Kingdom</td>\n",
       "      <td>1</td>\n",
       "    </tr>\n",
       "    <tr>\n",
       "      <th>567</th>\n",
       "      <td>Wythall, England, United Kingdom</td>\n",
       "      <td>Hastings</td>\n",
       "      <td>United Kingdom</td>\n",
       "      <td>1</td>\n",
       "    </tr>\n",
       "    <tr>\n",
       "      <th>568</th>\n",
       "      <td>Wythall, England, United Kingdom</td>\n",
       "      <td>Worcester</td>\n",
       "      <td>United Kingdom</td>\n",
       "      <td>1</td>\n",
       "    </tr>\n",
       "    <tr>\n",
       "      <th>569</th>\n",
       "      <td>Yellowknife, Northwest Territories, Canada</td>\n",
       "      <td>Yellowknife</td>\n",
       "      <td>Canada</td>\n",
       "      <td>1</td>\n",
       "    </tr>\n",
       "    <tr>\n",
       "      <th>570</th>\n",
       "      <td>York, England, United Kingdom</td>\n",
       "      <td>York</td>\n",
       "      <td>United Kingdom</td>\n",
       "      <td>3</td>\n",
       "    </tr>\n",
       "  </tbody>\n",
       "</table>\n",
       "<p>571 rows × 4 columns</p>\n",
       "</div>"
      ],
      "text/plain": [
       "                                       job_location      search_city  \\\n",
       "0           Abbots Salford, England, United Kingdom       Gloucester   \n",
       "1              Abbotsford, British Columbia, Canada          Langley   \n",
       "2                Aberdeen, Scotland, United Kingdom         Aberdeen   \n",
       "3              Adelaide, South Australia, Australia        Redcliffe   \n",
       "4              Adelaide, South Australia, Australia  South Australia   \n",
       "..                                              ...              ...   \n",
       "566  Woughton on the Green, England, United Kingdom    Milton Keynes   \n",
       "567                Wythall, England, United Kingdom         Hastings   \n",
       "568                Wythall, England, United Kingdom        Worcester   \n",
       "569      Yellowknife, Northwest Territories, Canada      Yellowknife   \n",
       "570                   York, England, United Kingdom             York   \n",
       "\n",
       "     search_country  count  \n",
       "0    United Kingdom      2  \n",
       "1            Canada      1  \n",
       "2    United Kingdom      7  \n",
       "3         Australia      2  \n",
       "4         Australia      3  \n",
       "..              ...    ...  \n",
       "566  United Kingdom      1  \n",
       "567  United Kingdom      1  \n",
       "568  United Kingdom      1  \n",
       "569          Canada      1  \n",
       "570  United Kingdom      3  \n",
       "\n",
       "[571 rows x 4 columns]"
      ]
     },
     "metadata": {},
     "output_type": "display_data"
    }
   ],
   "source": [
    "#Inspecting the dataframe programmatically\n",
    "# Grouping by 'search_city', 'job_location', and 'search_country' for Non-US countries\n",
    "display(df[df['search_country'] != 'United States'].groupby(['job_location', 'search_city', 'search_country']).size().reset_index(name='count'))"
   ]
  },
  {
   "cell_type": "code",
   "execution_count": 34,
   "metadata": {},
   "outputs": [
    {
     "data": {
      "text/html": [
       "<div>\n",
       "<style scoped>\n",
       "    .dataframe tbody tr th:only-of-type {\n",
       "        vertical-align: middle;\n",
       "    }\n",
       "\n",
       "    .dataframe tbody tr th {\n",
       "        vertical-align: top;\n",
       "    }\n",
       "\n",
       "    .dataframe thead th {\n",
       "        text-align: right;\n",
       "    }\n",
       "</style>\n",
       "<table border=\"1\" class=\"dataframe\">\n",
       "  <thead>\n",
       "    <tr style=\"text-align: right;\">\n",
       "      <th></th>\n",
       "      <th>job_location</th>\n",
       "      <th>search_city</th>\n",
       "      <th>search_country</th>\n",
       "      <th>count</th>\n",
       "    </tr>\n",
       "  </thead>\n",
       "  <tbody>\n",
       "    <tr>\n",
       "      <th>0</th>\n",
       "      <td>Abbott, TX</td>\n",
       "      <td>Texas</td>\n",
       "      <td>United States</td>\n",
       "      <td>1</td>\n",
       "    </tr>\n",
       "    <tr>\n",
       "      <th>1</th>\n",
       "      <td>Abbott, TX</td>\n",
       "      <td>Waco</td>\n",
       "      <td>United States</td>\n",
       "      <td>2</td>\n",
       "    </tr>\n",
       "    <tr>\n",
       "      <th>2</th>\n",
       "      <td>Aberdeen Proving Ground, MD</td>\n",
       "      <td>Aberdeen</td>\n",
       "      <td>United States</td>\n",
       "      <td>9</td>\n",
       "    </tr>\n",
       "    <tr>\n",
       "      <th>3</th>\n",
       "      <td>Aberdeen Proving Ground, MD</td>\n",
       "      <td>Maryland</td>\n",
       "      <td>United States</td>\n",
       "      <td>1</td>\n",
       "    </tr>\n",
       "    <tr>\n",
       "      <th>4</th>\n",
       "      <td>Aberdeen, MD</td>\n",
       "      <td>Aberdeen</td>\n",
       "      <td>United States</td>\n",
       "      <td>6</td>\n",
       "    </tr>\n",
       "    <tr>\n",
       "      <th>...</th>\n",
       "      <td>...</td>\n",
       "      <td>...</td>\n",
       "      <td>...</td>\n",
       "      <td>...</td>\n",
       "    </tr>\n",
       "    <tr>\n",
       "      <th>2958</th>\n",
       "      <td>Youngstown, OH</td>\n",
       "      <td>Bessemer</td>\n",
       "      <td>United States</td>\n",
       "      <td>2</td>\n",
       "    </tr>\n",
       "    <tr>\n",
       "      <th>2959</th>\n",
       "      <td>Youngstown, OH</td>\n",
       "      <td>Ohio</td>\n",
       "      <td>United States</td>\n",
       "      <td>2</td>\n",
       "    </tr>\n",
       "    <tr>\n",
       "      <th>2960</th>\n",
       "      <td>Yuma, AZ</td>\n",
       "      <td>Andalusia</td>\n",
       "      <td>United States</td>\n",
       "      <td>1</td>\n",
       "    </tr>\n",
       "    <tr>\n",
       "      <th>2961</th>\n",
       "      <td>Zelienople, PA</td>\n",
       "      <td>Pennsylvania</td>\n",
       "      <td>United States</td>\n",
       "      <td>1</td>\n",
       "    </tr>\n",
       "    <tr>\n",
       "      <th>2962</th>\n",
       "      <td>Zwolle, LA</td>\n",
       "      <td>Louisiana</td>\n",
       "      <td>United States</td>\n",
       "      <td>1</td>\n",
       "    </tr>\n",
       "  </tbody>\n",
       "</table>\n",
       "<p>2963 rows × 4 columns</p>\n",
       "</div>"
      ],
      "text/plain": [
       "                     job_location   search_city search_country  count\n",
       "0                      Abbott, TX         Texas  United States      1\n",
       "1                      Abbott, TX          Waco  United States      2\n",
       "2     Aberdeen Proving Ground, MD      Aberdeen  United States      9\n",
       "3     Aberdeen Proving Ground, MD      Maryland  United States      1\n",
       "4                    Aberdeen, MD      Aberdeen  United States      6\n",
       "...                           ...           ...            ...    ...\n",
       "2958               Youngstown, OH      Bessemer  United States      2\n",
       "2959               Youngstown, OH          Ohio  United States      2\n",
       "2960                     Yuma, AZ     Andalusia  United States      1\n",
       "2961               Zelienople, PA  Pennsylvania  United States      1\n",
       "2962                   Zwolle, LA     Louisiana  United States      1\n",
       "\n",
       "[2963 rows x 4 columns]"
      ]
     },
     "metadata": {},
     "output_type": "display_data"
    }
   ],
   "source": [
    "# Grouping by 'search_city', 'job_location', and 'search_country' for US countries\n",
    "display(df[df['search_country'] == 'United States'].groupby(['job_location', 'search_city', 'search_country']).size().reset_index(name='count'))"
   ]
  },
  {
   "cell_type": "markdown",
   "metadata": {},
   "source": [
    "Issue and justification: *Job location column contains combination of City and state for US and Country for non-US areas*. This column has inconsistency issue and contains two values in one column, complicating further analysis. We have used visual and programmatical ways to analyse and understand values of this column. Additionally, we used group By statements to see job_location field in combination with search_country and search_city columns to identify the logic of job_location field. "
   ]
  },
  {
   "cell_type": "markdown",
   "metadata": {
    "id": "D6gmLnBttpCh"
   },
   "source": [
    "## 3. Clean data\n",
    "Clean the data to solve the 4 issues corresponding to data quality and tidiness found in the assessing step. **Make sure you include justifications for your cleaning decisions.**\n",
    "\n",
    "After the cleaning for each issue, please use **either** the visually or programmatical method to validate the cleaning was successful.\n",
    "\n",
    "At this stage, you are also expected to remove variables that are unnecessary for your analysis and combine your datasets. Depending on your datasets, you may choose to perform variable combination and elimination before or after the cleaning stage. Your dataset must have **at least** 4 variables after combining the data."
   ]
  },
  {
   "cell_type": "code",
   "execution_count": 35,
   "metadata": {},
   "outputs": [],
   "source": [
    "# Creating copies of the original files before implementation of the cleaning steps, additionally we stored raw data in csv files above.\n",
    "df_cleaned1=df.copy()\n",
    "df_cleaned2=df_2.copy()"
   ]
  },
  {
   "cell_type": "markdown",
   "metadata": {
    "id": "FmFhN52Yyn3l"
   },
   "source": [
    "### **Quality Issue 1: Job Location column of our first data set has a missing value**"
   ]
  },
  {
   "cell_type": "markdown",
   "metadata": {},
   "source": [
    "After observing a missing line below, we see that job_location is NaN, while search_city is Alameda, search_country is United States and company is Tesla."
   ]
  },
  {
   "cell_type": "code",
   "execution_count": 36,
   "metadata": {},
   "outputs": [
    {
     "data": {
      "text/html": [
       "<div>\n",
       "<style scoped>\n",
       "    .dataframe tbody tr th:only-of-type {\n",
       "        vertical-align: middle;\n",
       "    }\n",
       "\n",
       "    .dataframe tbody tr th {\n",
       "        vertical-align: top;\n",
       "    }\n",
       "\n",
       "    .dataframe thead th {\n",
       "        text-align: right;\n",
       "    }\n",
       "</style>\n",
       "<table border=\"1\" class=\"dataframe\">\n",
       "  <thead>\n",
       "    <tr style=\"text-align: right;\">\n",
       "      <th></th>\n",
       "      <th>job_link</th>\n",
       "      <th>last_processed_time</th>\n",
       "      <th>last_status</th>\n",
       "      <th>got_summary</th>\n",
       "      <th>got_ner</th>\n",
       "      <th>is_being_worked</th>\n",
       "      <th>job_title</th>\n",
       "      <th>company</th>\n",
       "      <th>job_location</th>\n",
       "      <th>first_seen</th>\n",
       "      <th>search_city</th>\n",
       "      <th>search_country</th>\n",
       "      <th>search_position</th>\n",
       "      <th>job_level</th>\n",
       "      <th>job_type</th>\n",
       "    </tr>\n",
       "  </thead>\n",
       "  <tbody>\n",
       "    <tr>\n",
       "      <th>9885</th>\n",
       "      <td>https://www.linkedin.com/jobs/view/sr-data-eng...</td>\n",
       "      <td>2024-01-20 04:25:45.213731+00</td>\n",
       "      <td>Finished NER</td>\n",
       "      <td>t</td>\n",
       "      <td>t</td>\n",
       "      <td>f</td>\n",
       "      <td>Sr. Data Engineer, Abuse Test &amp; Engineering</td>\n",
       "      <td>Tesla</td>\n",
       "      <td>NaN</td>\n",
       "      <td>2024-01-17</td>\n",
       "      <td>Alameda</td>\n",
       "      <td>United States</td>\n",
       "      <td>Test Engineer Mechanical Equipment</td>\n",
       "      <td>Mid senior</td>\n",
       "      <td>Onsite</td>\n",
       "    </tr>\n",
       "  </tbody>\n",
       "</table>\n",
       "</div>"
      ],
      "text/plain": [
       "                                               job_link  \\\n",
       "9885  https://www.linkedin.com/jobs/view/sr-data-eng...   \n",
       "\n",
       "                last_processed_time   last_status got_summary got_ner  \\\n",
       "9885  2024-01-20 04:25:45.213731+00  Finished NER           t       t   \n",
       "\n",
       "     is_being_worked                                    job_title company  \\\n",
       "9885               f  Sr. Data Engineer, Abuse Test & Engineering   Tesla   \n",
       "\n",
       "     job_location  first_seen search_city search_country  \\\n",
       "9885          NaN  2024-01-17     Alameda  United States   \n",
       "\n",
       "                         search_position   job_level job_type  \n",
       "9885  Test Engineer Mechanical Equipment  Mid senior   Onsite  "
      ]
     },
     "execution_count": 36,
     "metadata": {},
     "output_type": "execute_result"
    }
   ],
   "source": [
    "df[df['job_location'].isnull()]"
   ]
  },
  {
   "cell_type": "markdown",
   "metadata": {},
   "source": [
    "Step 1. We will try to see whether there are any other similar lines in the database, which contain exactly the same parameters, as above and whether we can duplicate value from those similar lines"
   ]
  },
  {
   "cell_type": "code",
   "execution_count": 37,
   "metadata": {},
   "outputs": [
    {
     "data": {
      "text/html": [
       "<div>\n",
       "<style scoped>\n",
       "    .dataframe tbody tr th:only-of-type {\n",
       "        vertical-align: middle;\n",
       "    }\n",
       "\n",
       "    .dataframe tbody tr th {\n",
       "        vertical-align: top;\n",
       "    }\n",
       "\n",
       "    .dataframe thead th {\n",
       "        text-align: right;\n",
       "    }\n",
       "</style>\n",
       "<table border=\"1\" class=\"dataframe\">\n",
       "  <thead>\n",
       "    <tr style=\"text-align: right;\">\n",
       "      <th></th>\n",
       "      <th>job_link</th>\n",
       "      <th>last_processed_time</th>\n",
       "      <th>last_status</th>\n",
       "      <th>got_summary</th>\n",
       "      <th>got_ner</th>\n",
       "      <th>is_being_worked</th>\n",
       "      <th>job_title</th>\n",
       "      <th>company</th>\n",
       "      <th>job_location</th>\n",
       "      <th>first_seen</th>\n",
       "      <th>search_city</th>\n",
       "      <th>search_country</th>\n",
       "      <th>search_position</th>\n",
       "      <th>job_level</th>\n",
       "      <th>job_type</th>\n",
       "    </tr>\n",
       "  </thead>\n",
       "  <tbody>\n",
       "    <tr>\n",
       "      <th>8559</th>\n",
       "      <td>https://www.linkedin.com/jobs/view/sr-ml-infra...</td>\n",
       "      <td>2024-01-20 05:43:48.539384+00</td>\n",
       "      <td>Finished NER</td>\n",
       "      <td>t</td>\n",
       "      <td>t</td>\n",
       "      <td>f</td>\n",
       "      <td>Sr. ML Infrastructure Software Engineer, Autop...</td>\n",
       "      <td>Tesla</td>\n",
       "      <td>Palo Alto, CA</td>\n",
       "      <td>2024-01-16</td>\n",
       "      <td>Alameda</td>\n",
       "      <td>United States</td>\n",
       "      <td>Loading-Machine Tool-Setter</td>\n",
       "      <td>Mid senior</td>\n",
       "      <td>Onsite</td>\n",
       "    </tr>\n",
       "    <tr>\n",
       "      <th>9885</th>\n",
       "      <td>https://www.linkedin.com/jobs/view/sr-data-eng...</td>\n",
       "      <td>2024-01-20 04:25:45.213731+00</td>\n",
       "      <td>Finished NER</td>\n",
       "      <td>t</td>\n",
       "      <td>t</td>\n",
       "      <td>f</td>\n",
       "      <td>Sr. Data Engineer, Abuse Test &amp; Engineering</td>\n",
       "      <td>Tesla</td>\n",
       "      <td>NaN</td>\n",
       "      <td>2024-01-17</td>\n",
       "      <td>Alameda</td>\n",
       "      <td>United States</td>\n",
       "      <td>Test Engineer Mechanical Equipment</td>\n",
       "      <td>Mid senior</td>\n",
       "      <td>Onsite</td>\n",
       "    </tr>\n",
       "    <tr>\n",
       "      <th>10872</th>\n",
       "      <td>https://www.linkedin.com/jobs/view/staff-data-...</td>\n",
       "      <td>2024-01-20 13:32:04.81263+00</td>\n",
       "      <td>Finished NER</td>\n",
       "      <td>t</td>\n",
       "      <td>t</td>\n",
       "      <td>f</td>\n",
       "      <td>Staff Data Engineer, Quality Data Analytics &amp; ...</td>\n",
       "      <td>Tesla</td>\n",
       "      <td>Fremont, CA</td>\n",
       "      <td>2024-01-14</td>\n",
       "      <td>Alameda</td>\n",
       "      <td>United States</td>\n",
       "      <td>Computer Operator</td>\n",
       "      <td>Mid senior</td>\n",
       "      <td>Onsite</td>\n",
       "    </tr>\n",
       "  </tbody>\n",
       "</table>\n",
       "</div>"
      ],
      "text/plain": [
       "                                                job_link  \\\n",
       "8559   https://www.linkedin.com/jobs/view/sr-ml-infra...   \n",
       "9885   https://www.linkedin.com/jobs/view/sr-data-eng...   \n",
       "10872  https://www.linkedin.com/jobs/view/staff-data-...   \n",
       "\n",
       "                 last_processed_time   last_status got_summary got_ner  \\\n",
       "8559   2024-01-20 05:43:48.539384+00  Finished NER           t       t   \n",
       "9885   2024-01-20 04:25:45.213731+00  Finished NER           t       t   \n",
       "10872   2024-01-20 13:32:04.81263+00  Finished NER           t       t   \n",
       "\n",
       "      is_being_worked                                          job_title  \\\n",
       "8559                f  Sr. ML Infrastructure Software Engineer, Autop...   \n",
       "9885                f        Sr. Data Engineer, Abuse Test & Engineering   \n",
       "10872               f  Staff Data Engineer, Quality Data Analytics & ...   \n",
       "\n",
       "      company   job_location  first_seen search_city search_country  \\\n",
       "8559    Tesla  Palo Alto, CA  2024-01-16     Alameda  United States   \n",
       "9885    Tesla            NaN  2024-01-17     Alameda  United States   \n",
       "10872   Tesla    Fremont, CA  2024-01-14     Alameda  United States   \n",
       "\n",
       "                          search_position   job_level job_type  \n",
       "8559          Loading-Machine Tool-Setter  Mid senior   Onsite  \n",
       "9885   Test Engineer Mechanical Equipment  Mid senior   Onsite  \n",
       "10872                   Computer Operator  Mid senior   Onsite  "
      ]
     },
     "execution_count": 37,
     "metadata": {},
     "output_type": "execute_result"
    }
   ],
   "source": [
    "df[(df['search_city'] == 'Alameda') & (df['company'] == 'Tesla')]"
   ]
  },
  {
   "cell_type": "markdown",
   "metadata": {},
   "source": [
    "From the above analysis, we see that for the same Company, search_city and search_country there could be different values for job_location. For that reason we will avoid filling-in this row with any value. \n",
    "\n",
    "As we have only one line with a missing value and there will be a minimal statistical effect of this line on any conclusions derived, we have decided to clean the data via removing this line completely."
   ]
  },
  {
   "cell_type": "code",
   "execution_count": 38,
   "metadata": {
    "id": "9UejDWrNMW4a"
   },
   "outputs": [],
   "source": [
    "# Dropping a row with a missing value\n",
    "df_cleaned1=df.dropna()"
   ]
  },
  {
   "cell_type": "code",
   "execution_count": 39,
   "metadata": {
    "id": "oUBee-LPytkv"
   },
   "outputs": [
    {
     "data": {
      "text/plain": [
       "job_link               0\n",
       "last_processed_time    0\n",
       "last_status            0\n",
       "got_summary            0\n",
       "got_ner                0\n",
       "is_being_worked        0\n",
       "job_title              0\n",
       "company                0\n",
       "job_location           0\n",
       "first_seen             0\n",
       "search_city            0\n",
       "search_country         0\n",
       "search_position        0\n",
       "job_level              0\n",
       "job_type               0\n",
       "dtype: int64"
      ]
     },
     "execution_count": 39,
     "metadata": {},
     "output_type": "execute_result"
    }
   ],
   "source": [
    "# Quality issue 1 check after cleaning - Validate the cleaning was successful\n",
    "df_cleaned1.isnull().sum()"
   ]
  },
  {
   "cell_type": "code",
   "execution_count": 40,
   "metadata": {},
   "outputs": [
    {
     "name": "stdout",
     "output_type": "stream",
     "text": [
      "<class 'pandas.core.series.Series'>\n",
      "Index: 12216 entries, 0 to 12216\n",
      "Series name: job_location\n",
      "Non-Null Count  Dtype \n",
      "--------------  ----- \n",
      "12216 non-null  object\n",
      "dtypes: object(1)\n",
      "memory usage: 190.9+ KB\n"
     ]
    }
   ],
   "source": [
    "# Checking the total number of rows, which should be less that raw data for 1 entry only\n",
    "df_cleaned1['job_location'].info()"
   ]
  },
  {
   "cell_type": "markdown",
   "metadata": {},
   "source": [
    "Justification: *As filling-in the missing line with a correct value, derived from other columns was not feasible and also considering that we have only 1 missing entry (with limited impact on an overall dataset), we have decided to clean the dataset by removing the missing value.*"
   ]
  },
  {
   "cell_type": "markdown",
   "metadata": {
    "id": "n_DAUbJrymBL"
   },
   "source": [
    "### **Quality Issue 2: Columns referring to Job/Expertise level in both datasets although similar in terms of the distribution (junior to mid allocation) were not filled using exactly the same naming convention. Our assumption is that those levels in each dataset are similar from the definition standpoint, but need to be aligned in regards to naming.**"
   ]
  },
  {
   "cell_type": "markdown",
   "metadata": {},
   "source": [
    "Justification: *We have decided to align both datasets in regards to the naming convention via introducing a new column in the second data set (with the same name as in the first dataset: job_level), where Intermediate category will be categorized as Associate and Expert: Mid Senior.*"
   ]
  },
  {
   "cell_type": "code",
   "execution_count": 41,
   "metadata": {
    "id": "5Yfb-Yu5MTuE"
   },
   "outputs": [],
   "source": [
    "# Create a new column 'Job Level' based on conditions from 'Expertise Level'\n",
    "df_cleaned2['job_level'] = np.where(df_cleaned2['Expertise Level'] == 'Intermediate', 'Associate',\n",
    "                     np.where(df_cleaned2['Expertise Level'] == 'Expert', 'Mid senior', df_cleaned2['Expertise Level']))"
   ]
  },
  {
   "cell_type": "code",
   "execution_count": 42,
   "metadata": {
    "id": "ionB2sRaMUmY"
   },
   "outputs": [
    {
     "name": "stdout",
     "output_type": "stream",
     "text": [
      "Expertise Level  job_level \n",
      "Expert           Mid senior    528\n",
      "Intermediate     Associate      48\n",
      "Director         Director       24\n",
      "Name: count, dtype: int64\n"
     ]
    }
   ],
   "source": [
    "# Display the updated DataFrame to verify the changes\n",
    "print(df_cleaned2[['Expertise Level', 'job_level']].value_counts())"
   ]
  },
  {
   "cell_type": "code",
   "execution_count": 43,
   "metadata": {},
   "outputs": [
    {
     "name": "stdout",
     "output_type": "stream",
     "text": [
      "job_level\n",
      "Mid senior    10918\n",
      "Associate      1298\n",
      "Name: count, dtype: int64\n"
     ]
    }
   ],
   "source": [
    "# Display of the first dataset checking for comparability purposes\n",
    "print(df_cleaned1['job_level'].value_counts())"
   ]
  },
  {
   "cell_type": "markdown",
   "metadata": {
    "id": "bIUrrfSNyOPR"
   },
   "source": [
    "### **Tidiness Issue 1: Incorrect data types in both datasets**"
   ]
  },
  {
   "cell_type": "code",
   "execution_count": 44,
   "metadata": {
    "id": "fib0zAm333bn"
   },
   "outputs": [],
   "source": [
    "# Convert 'last_processed_time' to datetime using .loc\n",
    "df_cleaned1.loc[:, 'last_processed_time'] = pd.to_datetime(df_cleaned1['last_processed_time'], errors='coerce')\n",
    "\n",
    "# Convert 'first_seen' to datetime using .loc\n",
    "df_cleaned1.loc[:, 'first_seen'] = pd.to_datetime(df_cleaned1['first_seen'], errors='coerce')"
   ]
  },
  {
   "cell_type": "code",
   "execution_count": 45,
   "metadata": {
    "id": "yhrnUGY_Nk8B"
   },
   "outputs": [
    {
     "name": "stdout",
     "output_type": "stream",
     "text": [
      "                    last_processed_time           first_seen\n",
      "0      2024-01-21 08:08:48.031964+00:00  2024-01-14 00:00:00\n",
      "1      2024-01-20 04:02:12.331406+00:00  2024-01-14 00:00:00\n",
      "2      2024-01-21 08:08:31.941595+00:00  2024-01-14 00:00:00\n",
      "3      2024-01-20 15:30:55.796572+00:00  2024-01-12 00:00:00\n",
      "4      2024-01-21 08:08:58.312124+00:00  2024-01-14 00:00:00\n",
      "...                                 ...                  ...\n",
      "12212  2024-01-21 07:11:22.099082+00:00  2024-01-16 00:00:00\n",
      "12213  2024-01-19 15:10:41.177008+00:00  2024-01-14 00:00:00\n",
      "12214  2024-01-20 15:20:19.036168+00:00  2024-01-16 00:00:00\n",
      "12215  2024-01-19 23:25:28.107523+00:00  2024-01-16 00:00:00\n",
      "12216  2024-01-19 23:26:27.593516+00:00  2024-01-14 00:00:00\n",
      "\n",
      "[12216 rows x 2 columns]\n"
     ]
    }
   ],
   "source": [
    "# Display the updated DataFrame to verify the changes\n",
    "print(df_cleaned1[['last_processed_time', 'first_seen']])"
   ]
  },
  {
   "cell_type": "code",
   "execution_count": 46,
   "metadata": {},
   "outputs": [
    {
     "name": "stdout",
     "output_type": "stream",
     "text": [
      "<class 'pandas.core.frame.DataFrame'>\n",
      "Index: 12216 entries, 0 to 12216\n",
      "Data columns (total 15 columns):\n",
      " #   Column               Non-Null Count  Dtype \n",
      "---  ------               --------------  ----- \n",
      " 0   job_link             12216 non-null  object\n",
      " 1   last_processed_time  12216 non-null  object\n",
      " 2   last_status          12216 non-null  object\n",
      " 3   got_summary          12216 non-null  object\n",
      " 4   got_ner              12216 non-null  object\n",
      " 5   is_being_worked      12216 non-null  object\n",
      " 6   job_title            12216 non-null  object\n",
      " 7   company              12216 non-null  object\n",
      " 8   job_location         12216 non-null  object\n",
      " 9   first_seen           12216 non-null  object\n",
      " 10  search_city          12216 non-null  object\n",
      " 11  search_country       12216 non-null  object\n",
      " 12  search_position      12216 non-null  object\n",
      " 13  job_level            12216 non-null  object\n",
      " 14  job_type             12216 non-null  object\n",
      "dtypes: object(15)\n",
      "memory usage: 1.5+ MB\n"
     ]
    }
   ],
   "source": [
    "df_cleaned1.info()"
   ]
  },
  {
   "cell_type": "code",
   "execution_count": 47,
   "metadata": {},
   "outputs": [],
   "source": [
    "# Convert 'Salary' to float\n",
    "df_cleaned2['Salary'] = pd.to_numeric(df_cleaned2['Salary'], errors='coerce')\n",
    "\n",
    "# Convert 'Salary in USD' to float\n",
    "df_cleaned2['Salary in USD'] = pd.to_numeric(df_cleaned2['Salary in USD'], errors='coerce')"
   ]
  },
  {
   "cell_type": "code",
   "execution_count": 48,
   "metadata": {},
   "outputs": [
    {
     "name": "stdout",
     "output_type": "stream",
     "text": [
      "<class 'pandas.core.frame.DataFrame'>\n",
      "RangeIndex: 600 entries, 0 to 599\n",
      "Data columns (total 11 columns):\n",
      " #   Column              Non-Null Count  Dtype \n",
      "---  ------              --------------  ----- \n",
      " 0   Job Title           600 non-null    object\n",
      " 1   Employment Type     600 non-null    object\n",
      " 2   Experience Level    600 non-null    object\n",
      " 3   Expertise Level     600 non-null    object\n",
      " 4   Salary              600 non-null    int64 \n",
      " 5   Salary Currency     600 non-null    object\n",
      " 6   Company Location    600 non-null    object\n",
      " 7   Salary in USD       600 non-null    int64 \n",
      " 8   Employee Residence  600 non-null    object\n",
      " 9   Company Size        600 non-null    object\n",
      " 10  job_level           600 non-null    object\n",
      "dtypes: int64(2), object(9)\n",
      "memory usage: 51.7+ KB\n"
     ]
    }
   ],
   "source": [
    "df_cleaned2.info()"
   ]
  },
  {
   "cell_type": "markdown",
   "metadata": {},
   "source": [
    "Justification: *We have corrected incorrect data types to be able to use those columns correctly, including deriving average values from Salary column. Data now is displayed correctly using describe method as well as in a box plot below for the second dataset*"
   ]
  },
  {
   "cell_type": "code",
   "execution_count": 49,
   "metadata": {},
   "outputs": [
    {
     "data": {
      "text/html": [
       "<div>\n",
       "<style scoped>\n",
       "    .dataframe tbody tr th:only-of-type {\n",
       "        vertical-align: middle;\n",
       "    }\n",
       "\n",
       "    .dataframe tbody tr th {\n",
       "        vertical-align: top;\n",
       "    }\n",
       "\n",
       "    .dataframe thead th {\n",
       "        text-align: right;\n",
       "    }\n",
       "</style>\n",
       "<table border=\"1\" class=\"dataframe\">\n",
       "  <thead>\n",
       "    <tr style=\"text-align: right;\">\n",
       "      <th></th>\n",
       "      <th>Salary</th>\n",
       "      <th>Salary in USD</th>\n",
       "    </tr>\n",
       "  </thead>\n",
       "  <tbody>\n",
       "    <tr>\n",
       "      <th>count</th>\n",
       "      <td>6.000000e+02</td>\n",
       "      <td>600.000000</td>\n",
       "    </tr>\n",
       "    <tr>\n",
       "      <th>mean</th>\n",
       "      <td>1.928829e+05</td>\n",
       "      <td>154579.220000</td>\n",
       "    </tr>\n",
       "    <tr>\n",
       "      <th>std</th>\n",
       "      <td>2.644021e+05</td>\n",
       "      <td>57571.927618</td>\n",
       "    </tr>\n",
       "    <tr>\n",
       "      <th>min</th>\n",
       "      <td>5.000000e+04</td>\n",
       "      <td>24322.000000</td>\n",
       "    </tr>\n",
       "    <tr>\n",
       "      <th>25%</th>\n",
       "      <td>1.197000e+05</td>\n",
       "      <td>118800.000000</td>\n",
       "    </tr>\n",
       "    <tr>\n",
       "      <th>50%</th>\n",
       "      <td>1.475000e+05</td>\n",
       "      <td>143600.000000</td>\n",
       "    </tr>\n",
       "    <tr>\n",
       "      <th>75%</th>\n",
       "      <td>1.859000e+05</td>\n",
       "      <td>185900.000000</td>\n",
       "    </tr>\n",
       "    <tr>\n",
       "      <th>max</th>\n",
       "      <td>2.000000e+06</td>\n",
       "      <td>323300.000000</td>\n",
       "    </tr>\n",
       "  </tbody>\n",
       "</table>\n",
       "</div>"
      ],
      "text/plain": [
       "             Salary  Salary in USD\n",
       "count  6.000000e+02     600.000000\n",
       "mean   1.928829e+05  154579.220000\n",
       "std    2.644021e+05   57571.927618\n",
       "min    5.000000e+04   24322.000000\n",
       "25%    1.197000e+05  118800.000000\n",
       "50%    1.475000e+05  143600.000000\n",
       "75%    1.859000e+05  185900.000000\n",
       "max    2.000000e+06  323300.000000"
      ]
     },
     "execution_count": 49,
     "metadata": {},
     "output_type": "execute_result"
    }
   ],
   "source": [
    "df_cleaned2.describe()"
   ]
  },
  {
   "cell_type": "code",
   "execution_count": 50,
   "metadata": {},
   "outputs": [
    {
     "data": {
      "image/png": "[encoded data removed]",
      "text/plain": [
       "<Figure size 1000x600 with 1 Axes>"
      ]
     },
     "metadata": {},
     "output_type": "display_data"
    }
   ],
   "source": [
    "# Create a box plot for the 'Salary in USD' column\n",
    "plt.figure(figsize=(10, 6))  # Set the figure size\n",
    "plt.boxplot(df_cleaned2['Salary in USD'].dropna())\n",
    "plt.title('Box Plot of Salary in USD')\n",
    "plt.ylabel('Salary in USD')\n",
    "plt.xticks([1], ['Salary in USD'])\n",
    "plt.grid(axis='y')\n",
    "plt.show()"
   ]
  },
  {
   "cell_type": "markdown",
   "metadata": {
    "id": "o51Bt8kwyTzk"
   },
   "source": [
    "### **Tidiness Issue 2: Job Location column contains City and State/Country information in one column**"
   ]
  },
  {
   "cell_type": "code",
   "execution_count": 51,
   "metadata": {},
   "outputs": [],
   "source": [
    "# Split the 'job_location' column into separate columns\n",
    "location_split = df_cleaned1['job_location'].str.split(', ', expand=True)\n",
    "\n",
    "# Rename the new columns for clarity\n",
    "location_split.columns = ['City', 'Region', 'Country2']\n",
    "\n",
    "# Combine the new columns with the original DataFrame\n",
    "df_cleaned1_location = pd.concat([df_cleaned1, location_split], axis=1)"
   ]
  },
  {
   "cell_type": "code",
   "execution_count": 52,
   "metadata": {},
   "outputs": [],
   "source": [
    "# For United States and for some other lines, job_location column doesn't have an indication of a country at all, thus we have created a new logic,\n",
    "# when 'Country2' column is missing, then we should use search_country otherwise Country2\n",
    "df_cleaned1_location['Country'] = np.where(\n",
    "    (df_cleaned1_location['Country2'].isnull() | (df_cleaned1_location['Country2'] == '')),\n",
    "    df_cleaned1_location['search_country'],\n",
    "    df_cleaned1_location['Country2']\n",
    ")"
   ]
  },
  {
   "cell_type": "code",
   "execution_count": 53,
   "metadata": {},
   "outputs": [],
   "source": [
    "df_cleaned1_location = df_cleaned1_location.drop(columns=['Country2'])"
   ]
  },
  {
   "cell_type": "code",
   "execution_count": 54,
   "metadata": {
    "id": "q6I_Sr7lxXi5"
   },
   "outputs": [
    {
     "data": {
      "text/html": [
       "<div>\n",
       "<style scoped>\n",
       "    .dataframe tbody tr th:only-of-type {\n",
       "        vertical-align: middle;\n",
       "    }\n",
       "\n",
       "    .dataframe tbody tr th {\n",
       "        vertical-align: top;\n",
       "    }\n",
       "\n",
       "    .dataframe thead th {\n",
       "        text-align: right;\n",
       "    }\n",
       "</style>\n",
       "<table border=\"1\" class=\"dataframe\">\n",
       "  <thead>\n",
       "    <tr style=\"text-align: right;\">\n",
       "      <th></th>\n",
       "      <th>job_link</th>\n",
       "      <th>last_processed_time</th>\n",
       "      <th>last_status</th>\n",
       "      <th>got_summary</th>\n",
       "      <th>got_ner</th>\n",
       "      <th>is_being_worked</th>\n",
       "      <th>job_title</th>\n",
       "      <th>company</th>\n",
       "      <th>job_location</th>\n",
       "      <th>first_seen</th>\n",
       "      <th>search_city</th>\n",
       "      <th>search_country</th>\n",
       "      <th>search_position</th>\n",
       "      <th>job_level</th>\n",
       "      <th>job_type</th>\n",
       "      <th>City</th>\n",
       "      <th>Region</th>\n",
       "      <th>Country</th>\n",
       "    </tr>\n",
       "  </thead>\n",
       "  <tbody>\n",
       "    <tr>\n",
       "      <th>0</th>\n",
       "      <td>https://www.linkedin.com/jobs/view/senior-mach...</td>\n",
       "      <td>2024-01-21 08:08:48.031964+00:00</td>\n",
       "      <td>Finished NER</td>\n",
       "      <td>t</td>\n",
       "      <td>t</td>\n",
       "      <td>f</td>\n",
       "      <td>Senior Machine Learning Engineer</td>\n",
       "      <td>Jobs for Humanity</td>\n",
       "      <td>New Haven, CT</td>\n",
       "      <td>2024-01-14 00:00:00</td>\n",
       "      <td>East Haven</td>\n",
       "      <td>United States</td>\n",
       "      <td>Agricultural-Research Engineer</td>\n",
       "      <td>Mid senior</td>\n",
       "      <td>Onsite</td>\n",
       "      <td>New Haven</td>\n",
       "      <td>CT</td>\n",
       "      <td>United States</td>\n",
       "    </tr>\n",
       "    <tr>\n",
       "      <th>1</th>\n",
       "      <td>https://www.linkedin.com/jobs/view/principal-s...</td>\n",
       "      <td>2024-01-20 04:02:12.331406+00:00</td>\n",
       "      <td>Finished NER</td>\n",
       "      <td>t</td>\n",
       "      <td>t</td>\n",
       "      <td>f</td>\n",
       "      <td>Principal Software Engineer, ML Accelerators</td>\n",
       "      <td>Aurora</td>\n",
       "      <td>San Francisco, CA</td>\n",
       "      <td>2024-01-14 00:00:00</td>\n",
       "      <td>El Cerrito</td>\n",
       "      <td>United States</td>\n",
       "      <td>Set-Key Driver</td>\n",
       "      <td>Mid senior</td>\n",
       "      <td>Onsite</td>\n",
       "      <td>San Francisco</td>\n",
       "      <td>CA</td>\n",
       "      <td>United States</td>\n",
       "    </tr>\n",
       "    <tr>\n",
       "      <th>2</th>\n",
       "      <td>https://www.linkedin.com/jobs/view/senior-etl-...</td>\n",
       "      <td>2024-01-21 08:08:31.941595+00:00</td>\n",
       "      <td>Finished NER</td>\n",
       "      <td>t</td>\n",
       "      <td>t</td>\n",
       "      <td>f</td>\n",
       "      <td>Senior ETL Data Warehouse Specialist</td>\n",
       "      <td>Adame Services LLC</td>\n",
       "      <td>New York, NY</td>\n",
       "      <td>2024-01-14 00:00:00</td>\n",
       "      <td>Middletown</td>\n",
       "      <td>United States</td>\n",
       "      <td>Technical Support Specialist</td>\n",
       "      <td>Associate</td>\n",
       "      <td>Onsite</td>\n",
       "      <td>New York</td>\n",
       "      <td>NY</td>\n",
       "      <td>United States</td>\n",
       "    </tr>\n",
       "    <tr>\n",
       "      <th>3</th>\n",
       "      <td>https://www.linkedin.com/jobs/view/senior-data...</td>\n",
       "      <td>2024-01-20 15:30:55.796572+00:00</td>\n",
       "      <td>Finished NER</td>\n",
       "      <td>t</td>\n",
       "      <td>t</td>\n",
       "      <td>f</td>\n",
       "      <td>Senior Data Warehouse Developer / Architect</td>\n",
       "      <td>Morph Enterprise</td>\n",
       "      <td>Harrisburg, PA</td>\n",
       "      <td>2024-01-12 00:00:00</td>\n",
       "      <td>Lebanon</td>\n",
       "      <td>United States</td>\n",
       "      <td>Architect</td>\n",
       "      <td>Mid senior</td>\n",
       "      <td>Onsite</td>\n",
       "      <td>Harrisburg</td>\n",
       "      <td>PA</td>\n",
       "      <td>United States</td>\n",
       "    </tr>\n",
       "    <tr>\n",
       "      <th>4</th>\n",
       "      <td>https://www.linkedin.com/jobs/view/lead-data-e...</td>\n",
       "      <td>2024-01-21 08:08:58.312124+00:00</td>\n",
       "      <td>Finished NER</td>\n",
       "      <td>t</td>\n",
       "      <td>t</td>\n",
       "      <td>f</td>\n",
       "      <td>Lead Data Engineer</td>\n",
       "      <td>Dice</td>\n",
       "      <td>Plano, TX</td>\n",
       "      <td>2024-01-14 00:00:00</td>\n",
       "      <td>McKinney</td>\n",
       "      <td>United States</td>\n",
       "      <td>Maintenance Data Analyst</td>\n",
       "      <td>Mid senior</td>\n",
       "      <td>Onsite</td>\n",
       "      <td>Plano</td>\n",
       "      <td>TX</td>\n",
       "      <td>United States</td>\n",
       "    </tr>\n",
       "  </tbody>\n",
       "</table>\n",
       "</div>"
      ],
      "text/plain": [
       "                                            job_link  \\\n",
       "0  https://www.linkedin.com/jobs/view/senior-mach...   \n",
       "1  https://www.linkedin.com/jobs/view/principal-s...   \n",
       "2  https://www.linkedin.com/jobs/view/senior-etl-...   \n",
       "3  https://www.linkedin.com/jobs/view/senior-data...   \n",
       "4  https://www.linkedin.com/jobs/view/lead-data-e...   \n",
       "\n",
       "                last_processed_time   last_status got_summary got_ner  \\\n",
       "0  2024-01-21 08:08:48.031964+00:00  Finished NER           t       t   \n",
       "1  2024-01-20 04:02:12.331406+00:00  Finished NER           t       t   \n",
       "2  2024-01-21 08:08:31.941595+00:00  Finished NER           t       t   \n",
       "3  2024-01-20 15:30:55.796572+00:00  Finished NER           t       t   \n",
       "4  2024-01-21 08:08:58.312124+00:00  Finished NER           t       t   \n",
       "\n",
       "  is_being_worked                                     job_title  \\\n",
       "0               f              Senior Machine Learning Engineer   \n",
       "1               f  Principal Software Engineer, ML Accelerators   \n",
       "2               f          Senior ETL Data Warehouse Specialist   \n",
       "3               f   Senior Data Warehouse Developer / Architect   \n",
       "4               f                            Lead Data Engineer   \n",
       "\n",
       "              company       job_location           first_seen search_city  \\\n",
       "0   Jobs for Humanity      New Haven, CT  2024-01-14 00:00:00  East Haven   \n",
       "1              Aurora  San Francisco, CA  2024-01-14 00:00:00  El Cerrito   \n",
       "2  Adame Services LLC       New York, NY  2024-01-14 00:00:00  Middletown   \n",
       "3    Morph Enterprise     Harrisburg, PA  2024-01-12 00:00:00     Lebanon   \n",
       "4                Dice          Plano, TX  2024-01-14 00:00:00    McKinney   \n",
       "\n",
       "  search_country                 search_position   job_level job_type  \\\n",
       "0  United States  Agricultural-Research Engineer  Mid senior   Onsite   \n",
       "1  United States                  Set-Key Driver  Mid senior   Onsite   \n",
       "2  United States    Technical Support Specialist   Associate   Onsite   \n",
       "3  United States                       Architect  Mid senior   Onsite   \n",
       "4  United States        Maintenance Data Analyst  Mid senior   Onsite   \n",
       "\n",
       "            City Region        Country  \n",
       "0      New Haven     CT  United States  \n",
       "1  San Francisco     CA  United States  \n",
       "2       New York     NY  United States  \n",
       "3     Harrisburg     PA  United States  \n",
       "4          Plano     TX  United States  "
      ]
     },
     "execution_count": 54,
     "metadata": {},
     "output_type": "execute_result"
    }
   ],
   "source": [
    "df_cleaned1_location.head()"
   ]
  },
  {
   "cell_type": "code",
   "execution_count": 55,
   "metadata": {},
   "outputs": [
    {
     "data": {
      "text/html": [
       "<div>\n",
       "<style scoped>\n",
       "    .dataframe tbody tr th:only-of-type {\n",
       "        vertical-align: middle;\n",
       "    }\n",
       "\n",
       "    .dataframe tbody tr th {\n",
       "        vertical-align: top;\n",
       "    }\n",
       "\n",
       "    .dataframe thead th {\n",
       "        text-align: right;\n",
       "    }\n",
       "</style>\n",
       "<table border=\"1\" class=\"dataframe\">\n",
       "  <thead>\n",
       "    <tr style=\"text-align: right;\">\n",
       "      <th></th>\n",
       "      <th>job_location</th>\n",
       "      <th>City</th>\n",
       "      <th>Region</th>\n",
       "      <th>Country</th>\n",
       "      <th>count</th>\n",
       "    </tr>\n",
       "  </thead>\n",
       "  <tbody>\n",
       "    <tr>\n",
       "      <th>0</th>\n",
       "      <td>Abbots Salford, England, United Kingdom</td>\n",
       "      <td>Abbots Salford</td>\n",
       "      <td>England</td>\n",
       "      <td>United Kingdom</td>\n",
       "      <td>2</td>\n",
       "    </tr>\n",
       "    <tr>\n",
       "      <th>1</th>\n",
       "      <td>Abbotsford, British Columbia, Canada</td>\n",
       "      <td>Abbotsford</td>\n",
       "      <td>British Columbia</td>\n",
       "      <td>Canada</td>\n",
       "      <td>1</td>\n",
       "    </tr>\n",
       "    <tr>\n",
       "      <th>2</th>\n",
       "      <td>Aberdeen, Scotland, United Kingdom</td>\n",
       "      <td>Aberdeen</td>\n",
       "      <td>Scotland</td>\n",
       "      <td>United Kingdom</td>\n",
       "      <td>7</td>\n",
       "    </tr>\n",
       "    <tr>\n",
       "      <th>3</th>\n",
       "      <td>Adelaide, South Australia, Australia</td>\n",
       "      <td>Adelaide</td>\n",
       "      <td>South Australia</td>\n",
       "      <td>Australia</td>\n",
       "      <td>5</td>\n",
       "    </tr>\n",
       "    <tr>\n",
       "      <th>4</th>\n",
       "      <td>Alberta, Canada</td>\n",
       "      <td>Alberta</td>\n",
       "      <td>Canada</td>\n",
       "      <td>Canada</td>\n",
       "      <td>2</td>\n",
       "    </tr>\n",
       "    <tr>\n",
       "      <th>...</th>\n",
       "      <td>...</td>\n",
       "      <td>...</td>\n",
       "      <td>...</td>\n",
       "      <td>...</td>\n",
       "      <td>...</td>\n",
       "    </tr>\n",
       "    <tr>\n",
       "      <th>414</th>\n",
       "      <td>Worthing, England, United Kingdom</td>\n",
       "      <td>Worthing</td>\n",
       "      <td>England</td>\n",
       "      <td>United Kingdom</td>\n",
       "      <td>1</td>\n",
       "    </tr>\n",
       "    <tr>\n",
       "      <th>415</th>\n",
       "      <td>Woughton on the Green, England, United Kingdom</td>\n",
       "      <td>Woughton on the Green</td>\n",
       "      <td>England</td>\n",
       "      <td>United Kingdom</td>\n",
       "      <td>1</td>\n",
       "    </tr>\n",
       "    <tr>\n",
       "      <th>416</th>\n",
       "      <td>Wythall, England, United Kingdom</td>\n",
       "      <td>Wythall</td>\n",
       "      <td>England</td>\n",
       "      <td>United Kingdom</td>\n",
       "      <td>2</td>\n",
       "    </tr>\n",
       "    <tr>\n",
       "      <th>417</th>\n",
       "      <td>Yellowknife, Northwest Territories, Canada</td>\n",
       "      <td>Yellowknife</td>\n",
       "      <td>Northwest Territories</td>\n",
       "      <td>Canada</td>\n",
       "      <td>1</td>\n",
       "    </tr>\n",
       "    <tr>\n",
       "      <th>418</th>\n",
       "      <td>York, England, United Kingdom</td>\n",
       "      <td>York</td>\n",
       "      <td>England</td>\n",
       "      <td>United Kingdom</td>\n",
       "      <td>3</td>\n",
       "    </tr>\n",
       "  </tbody>\n",
       "</table>\n",
       "<p>419 rows × 5 columns</p>\n",
       "</div>"
      ],
      "text/plain": [
       "                                       job_location                   City  \\\n",
       "0           Abbots Salford, England, United Kingdom         Abbots Salford   \n",
       "1              Abbotsford, British Columbia, Canada             Abbotsford   \n",
       "2                Aberdeen, Scotland, United Kingdom               Aberdeen   \n",
       "3              Adelaide, South Australia, Australia               Adelaide   \n",
       "4                                   Alberta, Canada                Alberta   \n",
       "..                                              ...                    ...   \n",
       "414               Worthing, England, United Kingdom               Worthing   \n",
       "415  Woughton on the Green, England, United Kingdom  Woughton on the Green   \n",
       "416                Wythall, England, United Kingdom                Wythall   \n",
       "417      Yellowknife, Northwest Territories, Canada            Yellowknife   \n",
       "418                   York, England, United Kingdom                   York   \n",
       "\n",
       "                    Region         Country  count  \n",
       "0                  England  United Kingdom      2  \n",
       "1         British Columbia          Canada      1  \n",
       "2                 Scotland  United Kingdom      7  \n",
       "3          South Australia       Australia      5  \n",
       "4                   Canada          Canada      2  \n",
       "..                     ...             ...    ...  \n",
       "414                England  United Kingdom      1  \n",
       "415                England  United Kingdom      1  \n",
       "416                England  United Kingdom      2  \n",
       "417  Northwest Territories          Canada      1  \n",
       "418                England  United Kingdom      3  \n",
       "\n",
       "[419 rows x 5 columns]"
      ]
     },
     "metadata": {},
     "output_type": "display_data"
    }
   ],
   "source": [
    "# Checking data for Non-US countries\n",
    "# Grouping by 'search_city', 'job_location', and 'search_country' for Non-US countries\n",
    "display(df_cleaned1_location[df_cleaned1_location['Country'] != 'United States'].groupby(['job_location', 'City', 'Region','Country']).size().reset_index(name='count'))"
   ]
  },
  {
   "cell_type": "code",
   "execution_count": 56,
   "metadata": {},
   "outputs": [
    {
     "data": {
      "text/html": [
       "<div>\n",
       "<style scoped>\n",
       "    .dataframe tbody tr th:only-of-type {\n",
       "        vertical-align: middle;\n",
       "    }\n",
       "\n",
       "    .dataframe tbody tr th {\n",
       "        vertical-align: top;\n",
       "    }\n",
       "\n",
       "    .dataframe thead th {\n",
       "        text-align: right;\n",
       "    }\n",
       "</style>\n",
       "<table border=\"1\" class=\"dataframe\">\n",
       "  <thead>\n",
       "    <tr style=\"text-align: right;\">\n",
       "      <th></th>\n",
       "      <th>job_location</th>\n",
       "      <th>City</th>\n",
       "      <th>Region</th>\n",
       "      <th>Country</th>\n",
       "      <th>count</th>\n",
       "    </tr>\n",
       "  </thead>\n",
       "  <tbody>\n",
       "    <tr>\n",
       "      <th>0</th>\n",
       "      <td>Abbott, TX</td>\n",
       "      <td>Abbott</td>\n",
       "      <td>TX</td>\n",
       "      <td>United States</td>\n",
       "      <td>3</td>\n",
       "    </tr>\n",
       "    <tr>\n",
       "      <th>1</th>\n",
       "      <td>Aberdeen Proving Ground, MD</td>\n",
       "      <td>Aberdeen Proving Ground</td>\n",
       "      <td>MD</td>\n",
       "      <td>United States</td>\n",
       "      <td>10</td>\n",
       "    </tr>\n",
       "    <tr>\n",
       "      <th>2</th>\n",
       "      <td>Aberdeen, MD</td>\n",
       "      <td>Aberdeen</td>\n",
       "      <td>MD</td>\n",
       "      <td>United States</td>\n",
       "      <td>6</td>\n",
       "    </tr>\n",
       "    <tr>\n",
       "      <th>3</th>\n",
       "      <td>Abington, MA</td>\n",
       "      <td>Abington</td>\n",
       "      <td>MA</td>\n",
       "      <td>United States</td>\n",
       "      <td>1</td>\n",
       "    </tr>\n",
       "    <tr>\n",
       "      <th>4</th>\n",
       "      <td>Acoma Pueblo, NM</td>\n",
       "      <td>Acoma Pueblo</td>\n",
       "      <td>NM</td>\n",
       "      <td>United States</td>\n",
       "      <td>1</td>\n",
       "    </tr>\n",
       "    <tr>\n",
       "      <th>...</th>\n",
       "      <td>...</td>\n",
       "      <td>...</td>\n",
       "      <td>...</td>\n",
       "      <td>...</td>\n",
       "      <td>...</td>\n",
       "    </tr>\n",
       "    <tr>\n",
       "      <th>1576</th>\n",
       "      <td>Yorkville, IL</td>\n",
       "      <td>Yorkville</td>\n",
       "      <td>IL</td>\n",
       "      <td>United States</td>\n",
       "      <td>1</td>\n",
       "    </tr>\n",
       "    <tr>\n",
       "      <th>1577</th>\n",
       "      <td>Youngstown, OH</td>\n",
       "      <td>Youngstown</td>\n",
       "      <td>OH</td>\n",
       "      <td>United States</td>\n",
       "      <td>4</td>\n",
       "    </tr>\n",
       "    <tr>\n",
       "      <th>1578</th>\n",
       "      <td>Yuma, AZ</td>\n",
       "      <td>Yuma</td>\n",
       "      <td>AZ</td>\n",
       "      <td>United States</td>\n",
       "      <td>1</td>\n",
       "    </tr>\n",
       "    <tr>\n",
       "      <th>1579</th>\n",
       "      <td>Zelienople, PA</td>\n",
       "      <td>Zelienople</td>\n",
       "      <td>PA</td>\n",
       "      <td>United States</td>\n",
       "      <td>1</td>\n",
       "    </tr>\n",
       "    <tr>\n",
       "      <th>1580</th>\n",
       "      <td>Zwolle, LA</td>\n",
       "      <td>Zwolle</td>\n",
       "      <td>LA</td>\n",
       "      <td>United States</td>\n",
       "      <td>1</td>\n",
       "    </tr>\n",
       "  </tbody>\n",
       "</table>\n",
       "<p>1581 rows × 5 columns</p>\n",
       "</div>"
      ],
      "text/plain": [
       "                     job_location                     City Region  \\\n",
       "0                      Abbott, TX                   Abbott     TX   \n",
       "1     Aberdeen Proving Ground, MD  Aberdeen Proving Ground     MD   \n",
       "2                    Aberdeen, MD                 Aberdeen     MD   \n",
       "3                    Abington, MA                 Abington     MA   \n",
       "4                Acoma Pueblo, NM             Acoma Pueblo     NM   \n",
       "...                           ...                      ...    ...   \n",
       "1576                Yorkville, IL                Yorkville     IL   \n",
       "1577               Youngstown, OH               Youngstown     OH   \n",
       "1578                     Yuma, AZ                     Yuma     AZ   \n",
       "1579               Zelienople, PA               Zelienople     PA   \n",
       "1580                   Zwolle, LA                   Zwolle     LA   \n",
       "\n",
       "            Country  count  \n",
       "0     United States      3  \n",
       "1     United States     10  \n",
       "2     United States      6  \n",
       "3     United States      1  \n",
       "4     United States      1  \n",
       "...             ...    ...  \n",
       "1576  United States      1  \n",
       "1577  United States      4  \n",
       "1578  United States      1  \n",
       "1579  United States      1  \n",
       "1580  United States      1  \n",
       "\n",
       "[1581 rows x 5 columns]"
      ]
     },
     "metadata": {},
     "output_type": "display_data"
    }
   ],
   "source": [
    "# Checking data for United States\n",
    "# Grouping by 'search_city', 'job_location', and 'search_country' for US countries\n",
    "display(df_cleaned1_location[df_cleaned1_location['Country'] == 'United States'].groupby(['job_location', 'City', 'Region','Country']).size().reset_index(name='count'))"
   ]
  },
  {
   "cell_type": "code",
   "execution_count": 57,
   "metadata": {},
   "outputs": [
    {
     "data": {
      "text/plain": [
       "job_link                 0\n",
       "last_processed_time      0\n",
       "last_status              0\n",
       "got_summary              0\n",
       "got_ner                  0\n",
       "is_being_worked          0\n",
       "job_title                0\n",
       "company                  0\n",
       "job_location             0\n",
       "first_seen               0\n",
       "search_city              0\n",
       "search_country           0\n",
       "search_position          0\n",
       "job_level                0\n",
       "job_type                 0\n",
       "City                     0\n",
       "Region                 295\n",
       "Country                  0\n",
       "dtype: int64"
      ]
     },
     "execution_count": 57,
     "metadata": {},
     "output_type": "execute_result"
    }
   ],
   "source": [
    "# Checking for missing values\n",
    "df_cleaned1_location.isnull().sum()"
   ]
  },
  {
   "cell_type": "markdown",
   "metadata": {},
   "source": [
    "Justification: *Using a combination of job_location and search_country columns, we have separated City and Country columns taken from job_location.* The method used ensured absence of missing values in City and Country columns, where the latter one will be used in our combined dataset analysis.\n",
    "\n",
    "**LIMITATION** Region column is assumed to be not relevant for our analysis and have a lower importance overall. For that reason further clean up data was not proceeded to fill-in missing values in the Region column."
   ]
  },
  {
   "cell_type": "code",
   "execution_count": 58,
   "metadata": {},
   "outputs": [],
   "source": [
    "# after validation of job_location column logic, we use it for further steps\n",
    "df_cleaned1=df_cleaned1_location"
   ]
  },
  {
   "cell_type": "markdown",
   "metadata": {},
   "source": [
    "### **Removing unnecessary variables and combining datasets**\n",
    "\n",
    "Following the **OBSERVATION 2** above, the first dataset contains last_status and is_being_worked columns, which contain only one value and can be removed from the analysis due to absence of any additional information and add value.\n",
    "\n",
    "We have decided to use only the relevant information from both datasets and combine only aggregated values in the resulting combined dataframe. So that our stakeholders would be able to see the final concise table as a result."
   ]
  },
  {
   "cell_type": "markdown",
   "metadata": {},
   "source": [
    "Below is an extraction of only relevant information for our further analysis from the first dataframe.\n",
    "This step includes the following:\n",
    "- filtering for US and UK countries\n",
    "- selecting relevant Country and Job level fields\n",
    "- calculating count of rows and aggregating the dataset, to be able to compare the market size of both countries in terms of available open positions"
   ]
  },
  {
   "cell_type": "code",
   "execution_count": 59,
   "metadata": {},
   "outputs": [
    {
     "data": {
      "text/html": [
       "<div>\n",
       "<style scoped>\n",
       "    .dataframe tbody tr th:only-of-type {\n",
       "        vertical-align: middle;\n",
       "    }\n",
       "\n",
       "    .dataframe tbody tr th {\n",
       "        vertical-align: top;\n",
       "    }\n",
       "\n",
       "    .dataframe thead th {\n",
       "        text-align: right;\n",
       "    }\n",
       "</style>\n",
       "<table border=\"1\" class=\"dataframe\">\n",
       "  <thead>\n",
       "    <tr style=\"text-align: right;\">\n",
       "      <th></th>\n",
       "      <th>Country</th>\n",
       "      <th>job_level</th>\n",
       "      <th>count</th>\n",
       "    </tr>\n",
       "  </thead>\n",
       "  <tbody>\n",
       "    <tr>\n",
       "      <th>0</th>\n",
       "      <td>United Kingdom</td>\n",
       "      <td>Associate</td>\n",
       "      <td>115</td>\n",
       "    </tr>\n",
       "    <tr>\n",
       "      <th>1</th>\n",
       "      <td>United Kingdom</td>\n",
       "      <td>Mid senior</td>\n",
       "      <td>880</td>\n",
       "    </tr>\n",
       "    <tr>\n",
       "      <th>2</th>\n",
       "      <td>United States</td>\n",
       "      <td>Associate</td>\n",
       "      <td>1108</td>\n",
       "    </tr>\n",
       "    <tr>\n",
       "      <th>3</th>\n",
       "      <td>United States</td>\n",
       "      <td>Mid senior</td>\n",
       "      <td>9163</td>\n",
       "    </tr>\n",
       "  </tbody>\n",
       "</table>\n",
       "</div>"
      ],
      "text/plain": [
       "          Country   job_level  count\n",
       "0  United Kingdom   Associate    115\n",
       "1  United Kingdom  Mid senior    880\n",
       "2   United States   Associate   1108\n",
       "3   United States  Mid senior   9163"
      ]
     },
     "execution_count": 59,
     "metadata": {},
     "output_type": "execute_result"
    }
   ],
   "source": [
    "df_1_agg=df_cleaned1[\n",
    "        (df_cleaned1['Country'].isin(['United States', 'United Kingdom']))\n",
    "    ].groupby(['Country','job_level']).size().reset_index(name='count')\n",
    "df_1_agg"
   ]
  },
  {
   "cell_type": "markdown",
   "metadata": {},
   "source": [
    "Below is an extraction of only relevant information for our further analysis from the second dataframe.\n",
    "This step includes the following:\n",
    "- filtering for US and UK countries\n",
    "- selecting relevant Country and Job level fields\n",
    "- calculating relevant statistics for Salary in USD for aggregated dataset, to be able to combine this information with the open positions / market size in both countries"
   ]
  },
  {
   "cell_type": "code",
   "execution_count": 60,
   "metadata": {},
   "outputs": [
    {
     "data": {
      "text/html": [
       "<div>\n",
       "<style scoped>\n",
       "    .dataframe tbody tr th:only-of-type {\n",
       "        vertical-align: middle;\n",
       "    }\n",
       "\n",
       "    .dataframe tbody tr th {\n",
       "        vertical-align: top;\n",
       "    }\n",
       "\n",
       "    .dataframe thead th {\n",
       "        text-align: right;\n",
       "    }\n",
       "</style>\n",
       "<table border=\"1\" class=\"dataframe\">\n",
       "  <thead>\n",
       "    <tr style=\"text-align: right;\">\n",
       "      <th></th>\n",
       "      <th>Employee Residence</th>\n",
       "      <th>job_level</th>\n",
       "      <th>Average_Salary</th>\n",
       "      <th>Max_Salary</th>\n",
       "      <th>Min_Salary</th>\n",
       "      <th>Mode_Salary</th>\n",
       "      <th>Q1</th>\n",
       "      <th>Q3</th>\n",
       "      <th>Std_Dev</th>\n",
       "    </tr>\n",
       "  </thead>\n",
       "  <tbody>\n",
       "    <tr>\n",
       "      <th>0</th>\n",
       "      <td>United Kingdom</td>\n",
       "      <td>Associate</td>\n",
       "      <td>86128.000000</td>\n",
       "      <td>104584</td>\n",
       "      <td>61520</td>\n",
       "      <td>61520</td>\n",
       "      <td>61520.0</td>\n",
       "      <td>104584.0</td>\n",
       "      <td>18367.904032</td>\n",
       "    </tr>\n",
       "    <tr>\n",
       "      <th>1</th>\n",
       "      <td>United Kingdom</td>\n",
       "      <td>Mid senior</td>\n",
       "      <td>144411.000000</td>\n",
       "      <td>180514</td>\n",
       "      <td>108308</td>\n",
       "      <td>108308</td>\n",
       "      <td>108308.0</td>\n",
       "      <td>180514.0</td>\n",
       "      <td>36485.052968</td>\n",
       "    </tr>\n",
       "    <tr>\n",
       "      <th>2</th>\n",
       "      <td>United States</td>\n",
       "      <td>Director</td>\n",
       "      <td>209850.000000</td>\n",
       "      <td>247500</td>\n",
       "      <td>172200</td>\n",
       "      <td>172200</td>\n",
       "      <td>172200.0</td>\n",
       "      <td>247500.0</td>\n",
       "      <td>38459.770060</td>\n",
       "    </tr>\n",
       "    <tr>\n",
       "      <th>3</th>\n",
       "      <td>United States</td>\n",
       "      <td>Mid senior</td>\n",
       "      <td>165389.473684</td>\n",
       "      <td>323300</td>\n",
       "      <td>75000</td>\n",
       "      <td>129300</td>\n",
       "      <td>130000.0</td>\n",
       "      <td>193600.0</td>\n",
       "      <td>52340.305514</td>\n",
       "    </tr>\n",
       "  </tbody>\n",
       "</table>\n",
       "</div>"
      ],
      "text/plain": [
       "  Employee Residence   job_level  Average_Salary  Max_Salary  Min_Salary  \\\n",
       "0     United Kingdom   Associate    86128.000000      104584       61520   \n",
       "1     United Kingdom  Mid senior   144411.000000      180514      108308   \n",
       "2      United States    Director   209850.000000      247500      172200   \n",
       "3      United States  Mid senior   165389.473684      323300       75000   \n",
       "\n",
       "   Mode_Salary        Q1        Q3       Std_Dev  \n",
       "0        61520   61520.0  104584.0  18367.904032  \n",
       "1       108308  108308.0  180514.0  36485.052968  \n",
       "2       172200  172200.0  247500.0  38459.770060  \n",
       "3       129300  130000.0  193600.0  52340.305514  "
      ]
     },
     "execution_count": 60,
     "metadata": {},
     "output_type": "execute_result"
    }
   ],
   "source": [
    "# Filter the DataFrame for 'United States' and 'United Kingdom'\n",
    "df_2_filtered = df_cleaned2[(df_cleaned2['Employee Residence'].isin(['United States', 'United Kingdom']))]\n",
    "\n",
    "# Group by 'Employee Residence' and 'job_level', and calculate various statistics\n",
    "df_2_agg = df_2_filtered.groupby(['Employee Residence', 'job_level']).agg(\n",
    "    Average_Salary=('Salary in USD', 'mean'),\n",
    "    Max_Salary=('Salary in USD', 'max'),\n",
    "    Min_Salary=('Salary in USD', 'min'),\n",
    "    Mode_Salary=('Salary in USD', lambda x: x.mode().iloc[0] if not x.mode().empty else None),\n",
    "    Q1=('Salary in USD', lambda x: x.quantile(0.25)),\n",
    "    Q3=('Salary in USD', lambda x: x.quantile(0.75)),\n",
    "    Std_Dev=('Salary in USD', 'std')\n",
    ").reset_index()\n",
    "\n",
    "# Display the resulting DataFrame\n",
    "df_2_agg"
   ]
  },
  {
   "cell_type": "code",
   "execution_count": 61,
   "metadata": {},
   "outputs": [
    {
     "data": {
      "text/html": [
       "<div>\n",
       "<style scoped>\n",
       "    .dataframe tbody tr th:only-of-type {\n",
       "        vertical-align: middle;\n",
       "    }\n",
       "\n",
       "    .dataframe tbody tr th {\n",
       "        vertical-align: top;\n",
       "    }\n",
       "\n",
       "    .dataframe thead th {\n",
       "        text-align: right;\n",
       "    }\n",
       "</style>\n",
       "<table border=\"1\" class=\"dataframe\">\n",
       "  <thead>\n",
       "    <tr style=\"text-align: right;\">\n",
       "      <th></th>\n",
       "      <th>Country</th>\n",
       "      <th>job_level</th>\n",
       "      <th>count</th>\n",
       "      <th>Average_Salary</th>\n",
       "      <th>Max_Salary</th>\n",
       "      <th>Min_Salary</th>\n",
       "      <th>Mode_Salary</th>\n",
       "      <th>Q1</th>\n",
       "      <th>Q3</th>\n",
       "      <th>Std_Dev</th>\n",
       "    </tr>\n",
       "  </thead>\n",
       "  <tbody>\n",
       "    <tr>\n",
       "      <th>0</th>\n",
       "      <td>United Kingdom</td>\n",
       "      <td>Associate</td>\n",
       "      <td>115.0</td>\n",
       "      <td>86128.000000</td>\n",
       "      <td>104584.0</td>\n",
       "      <td>61520.0</td>\n",
       "      <td>61520.0</td>\n",
       "      <td>61520.0</td>\n",
       "      <td>104584.0</td>\n",
       "      <td>18367.904032</td>\n",
       "    </tr>\n",
       "    <tr>\n",
       "      <th>1</th>\n",
       "      <td>United Kingdom</td>\n",
       "      <td>Mid senior</td>\n",
       "      <td>880.0</td>\n",
       "      <td>144411.000000</td>\n",
       "      <td>180514.0</td>\n",
       "      <td>108308.0</td>\n",
       "      <td>108308.0</td>\n",
       "      <td>108308.0</td>\n",
       "      <td>180514.0</td>\n",
       "      <td>36485.052968</td>\n",
       "    </tr>\n",
       "    <tr>\n",
       "      <th>2</th>\n",
       "      <td>United States</td>\n",
       "      <td>Associate</td>\n",
       "      <td>1108.0</td>\n",
       "      <td>NaN</td>\n",
       "      <td>NaN</td>\n",
       "      <td>NaN</td>\n",
       "      <td>NaN</td>\n",
       "      <td>NaN</td>\n",
       "      <td>NaN</td>\n",
       "      <td>NaN</td>\n",
       "    </tr>\n",
       "    <tr>\n",
       "      <th>3</th>\n",
       "      <td>United States</td>\n",
       "      <td>Director</td>\n",
       "      <td>NaN</td>\n",
       "      <td>209850.000000</td>\n",
       "      <td>247500.0</td>\n",
       "      <td>172200.0</td>\n",
       "      <td>172200.0</td>\n",
       "      <td>172200.0</td>\n",
       "      <td>247500.0</td>\n",
       "      <td>38459.770060</td>\n",
       "    </tr>\n",
       "    <tr>\n",
       "      <th>4</th>\n",
       "      <td>United States</td>\n",
       "      <td>Mid senior</td>\n",
       "      <td>9163.0</td>\n",
       "      <td>165389.473684</td>\n",
       "      <td>323300.0</td>\n",
       "      <td>75000.0</td>\n",
       "      <td>129300.0</td>\n",
       "      <td>130000.0</td>\n",
       "      <td>193600.0</td>\n",
       "      <td>52340.305514</td>\n",
       "    </tr>\n",
       "  </tbody>\n",
       "</table>\n",
       "</div>"
      ],
      "text/plain": [
       "          Country   job_level   count  Average_Salary  Max_Salary  Min_Salary  \\\n",
       "0  United Kingdom   Associate   115.0    86128.000000    104584.0     61520.0   \n",
       "1  United Kingdom  Mid senior   880.0   144411.000000    180514.0    108308.0   \n",
       "2   United States   Associate  1108.0             NaN         NaN         NaN   \n",
       "3   United States    Director     NaN   209850.000000    247500.0    172200.0   \n",
       "4   United States  Mid senior  9163.0   165389.473684    323300.0     75000.0   \n",
       "\n",
       "   Mode_Salary        Q1        Q3       Std_Dev  \n",
       "0      61520.0   61520.0  104584.0  18367.904032  \n",
       "1     108308.0  108308.0  180514.0  36485.052968  \n",
       "2          NaN       NaN       NaN           NaN  \n",
       "3     172200.0  172200.0  247500.0  38459.770060  \n",
       "4     129300.0  130000.0  193600.0  52340.305514  "
      ]
     },
     "execution_count": 61,
     "metadata": {},
     "output_type": "execute_result"
    }
   ],
   "source": [
    "# Rename columns in df_2 to perform merging\n",
    "df_2_agg = df_2_agg.rename(columns={'Employee Residence': 'Country'})\n",
    "\n",
    "# Merge the two DataFrames on 'search_country' and 'job_level'\n",
    "df_combined = pd.merge(df_1_agg, df_2_agg, on=['Country', 'job_level'], how='outer')\n",
    "\n",
    "# Display the combined DataFrame\n",
    "df_combined"
   ]
  },
  {
   "cell_type": "markdown",
   "metadata": {
    "id": "F42urHuzttjF"
   },
   "source": [
    "## 4. Updating data store\n",
    "We have stored raw data, cleaned and processed data as well as the resulting combined table in separate csv files below:"
   ]
  },
  {
   "cell_type": "code",
   "execution_count": 62,
   "metadata": {
    "id": "V3uay7EJUV_L"
   },
   "outputs": [],
   "source": [
    "#Raw data was previously stored in csvs as following:\n",
    "# 'raw_data1.csv'\n",
    "# 'raw_data2.csv'"
   ]
  },
  {
   "cell_type": "code",
   "execution_count": 63,
   "metadata": {},
   "outputs": [],
   "source": [
    "# Storing processed and cleaned versions of each dataset:\n",
    "df_cleaned1.to_csv('cleaned_data1.csv', index=False)\n",
    "df_cleaned2.to_csv('cleaned_data2.csv', index=False)"
   ]
  },
  {
   "cell_type": "code",
   "execution_count": 64,
   "metadata": {},
   "outputs": [],
   "source": [
    "# Storing the final output of our analysis:\n",
    "df_combined.to_csv('result_combined.csv', index=False)"
   ]
  },
  {
   "cell_type": "markdown",
   "metadata": {
    "id": "cGy_yddGtzhM"
   },
   "source": [
    "## 5. Answer the research question\n",
    "\n",
    "### **5.1:** Define and answer the research question \n",
    "Going back to the problem statement in step 1, use the cleaned data to answer the question you raised. Produce **at least** two visualizations using the cleaned data and explain how they help you answer the question."
   ]
  },
  {
   "cell_type": "markdown",
   "metadata": {
    "id": "gjedE4s4ZkEd"
   },
   "source": [
    "*Research question:* What are the major characteristics of US and UK job markets for data science professionals in Mid-senior level?\n",
    "Specifically:\n",
    "- how many open positions are available in both countries based on the available data sources;\n",
    "- what are the Average Salary, Standard deviation, Mode, Minimum and Maximum Salaries of UK and US\n",
    "- how different Average Salaries are for Mid-senior level Data Science professionals between mentioned countries during the observed period."
   ]
  },
  {
   "cell_type": "markdown",
   "metadata": {},
   "source": [
    "Visualizing pie-chart for job market in US and UK per job level below, where we can see that roughly Mid-Senior and Associate levels have similar distribution in each country "
   ]
  },
  {
   "cell_type": "code",
   "execution_count": 66,
   "metadata": {
    "id": "Lkw3rW9kZmOm"
   },
   "outputs": [
    {
     "data": {
      "image/png": "[encoded data removed]",
      "text/plain": [
       "<Figure size 1200x600 with 2 Axes>"
      ]
     },
     "metadata": {},
     "output_type": "display_data"
    }
   ],
   "source": [
    "# Define color mapping\n",
    "color_mapping = {\n",
    "    'Mid senior': '#6F965F',\n",
    "    'Associate': '#F0E199',\n",
    "    'Director': 'red'\n",
    "}\n",
    "\n",
    "# Group by job_level and sum the countuk_counts = df_combined[df_combined['Country'] == \"United Kingdom\"].groupby('job_level')['count'].sum()\n",
    "us_counts = df_combined[df_combined['Country'] == \"United States\"].groupby('job_level')['count'].sum()\n",
    "uk_counts = df_combined[df_combined['Country'] == \"United Kingdom\"].groupby('job_level')['count'].sum()\n",
    "\n",
    "# Create pie charts\n",
    "fig, axs = plt.subplots(1, 2, figsize=(12, 6))\n",
    "\n",
    "# UK Pie Chart\n",
    "axs[0].pie(uk_counts, labels=uk_counts.index, autopct='%1.1f%%', startangle=90, colors=[color_mapping.get(level, 'grey') for level in uk_counts.index])\n",
    "axs[0].axis('equal')  # Equal aspect ratio ensures that pie is drawn as a circle.\n",
    "axs[0].set_title('Job Levels Distribution in the UK')\n",
    "\n",
    "# US Pie Chart\n",
    "axs[1].pie(us_counts, labels=us_counts.index, autopct='%1.1f%%', startangle=90, colors=[color_mapping.get(level, 'grey') for level in us_counts.index])\n",
    "axs[1].axis('equal')  # Equal aspect ratio ensures that pie is drawn as a circle.\n",
    "axs[1].set_title('Job Levels Distribution in the US')\n",
    "\n",
    "# Show the plots\n",
    "plt.tight_layout()\n",
    "plt.show()"
   ]
  },
  {
   "cell_type": "markdown",
   "metadata": {},
   "source": [
    "In the bubble chart below we see the comparative sizes of US and UK markets represented as bubble size per job levels and visualizing in combination with information about Average Salary. This chart helps us to depict market size and Average Salary superiority of US market compared to UK."
   ]
  },
  {
   "cell_type": "code",
   "execution_count": 67,
   "metadata": {},
   "outputs": [
    {
     "data": {
      "image/png": "[encoded data removed]",
      "text/plain": [
       "<Figure size 1200x600 with 1 Axes>"
      ]
     },
     "metadata": {},
     "output_type": "display_data"
    }
   ],
   "source": [
    "# Create a bubble chart\n",
    "plt.figure(figsize=(12, 6))\n",
    "bubble_chart = sns.scatterplot(\n",
    "    data=df_combined, \n",
    "    x='job_level', \n",
    "    y='Average_Salary', \n",
    "    size='count', \n",
    "    sizes=(2000, 10000),  # Adjust the size range of the bubbles\n",
    "    hue='Country', \n",
    "    alpha=0.6, \n",
    "    palette='deep'\n",
    ")\n",
    "\n",
    "# Set x-axis limits\n",
    "plt.xlim(-0.5, 1.5)  # Adjust these values based on your job level categories\n",
    "\n",
    "# Title and labels\n",
    "plt.title('Bubble Chart: Average Salary vs. Job Level with Employee Count as Bubble Size')\n",
    "plt.xlabel('Job Level')\n",
    "plt.ylabel('Average Salary (USD)')\n",
    "plt.xticks(rotation=45)\n",
    "\n",
    "# Show legend\n",
    "plt.legend(title='Country', loc='lower right')\n",
    "\n",
    "# Show the plot\n",
    "plt.show()"
   ]
  },
  {
   "cell_type": "code",
   "execution_count": 68,
   "metadata": {},
   "outputs": [
    {
     "data": {
      "text/html": [
       "<div>\n",
       "<style scoped>\n",
       "    .dataframe tbody tr th:only-of-type {\n",
       "        vertical-align: middle;\n",
       "    }\n",
       "\n",
       "    .dataframe tbody tr th {\n",
       "        vertical-align: top;\n",
       "    }\n",
       "\n",
       "    .dataframe thead th {\n",
       "        text-align: right;\n",
       "    }\n",
       "</style>\n",
       "<table border=\"1\" class=\"dataframe\">\n",
       "  <thead>\n",
       "    <tr style=\"text-align: right;\">\n",
       "      <th></th>\n",
       "      <th>Country</th>\n",
       "      <th>job_level</th>\n",
       "      <th>count</th>\n",
       "      <th>Average_Salary</th>\n",
       "      <th>Max_Salary</th>\n",
       "      <th>Min_Salary</th>\n",
       "      <th>Mode_Salary</th>\n",
       "      <th>Q1</th>\n",
       "      <th>Q3</th>\n",
       "      <th>Std_Dev</th>\n",
       "    </tr>\n",
       "  </thead>\n",
       "  <tbody>\n",
       "    <tr>\n",
       "      <th>1</th>\n",
       "      <td>United Kingdom</td>\n",
       "      <td>Mid senior</td>\n",
       "      <td>880.0</td>\n",
       "      <td>144411.000000</td>\n",
       "      <td>180514.0</td>\n",
       "      <td>108308.0</td>\n",
       "      <td>108308.0</td>\n",
       "      <td>108308.0</td>\n",
       "      <td>180514.0</td>\n",
       "      <td>36485.052968</td>\n",
       "    </tr>\n",
       "    <tr>\n",
       "      <th>4</th>\n",
       "      <td>United States</td>\n",
       "      <td>Mid senior</td>\n",
       "      <td>9163.0</td>\n",
       "      <td>165389.473684</td>\n",
       "      <td>323300.0</td>\n",
       "      <td>75000.0</td>\n",
       "      <td>129300.0</td>\n",
       "      <td>130000.0</td>\n",
       "      <td>193600.0</td>\n",
       "      <td>52340.305514</td>\n",
       "    </tr>\n",
       "  </tbody>\n",
       "</table>\n",
       "</div>"
      ],
      "text/plain": [
       "          Country   job_level   count  Average_Salary  Max_Salary  Min_Salary  \\\n",
       "1  United Kingdom  Mid senior   880.0   144411.000000    180514.0    108308.0   \n",
       "4   United States  Mid senior  9163.0   165389.473684    323300.0     75000.0   \n",
       "\n",
       "   Mode_Salary        Q1        Q3       Std_Dev  \n",
       "1     108308.0  108308.0  180514.0  36485.052968  \n",
       "4     129300.0  130000.0  193600.0  52340.305514  "
      ]
     },
     "execution_count": 68,
     "metadata": {},
     "output_type": "execute_result"
    }
   ],
   "source": [
    "# Major characteristics of US and UK job market for data science professionals in Mid-senior level are presented below:\n",
    "df_combined[df_combined['job_level']=='Mid senior']"
   ]
  },
  {
   "cell_type": "markdown",
   "metadata": {},
   "source": [
    "*Answer to research question:* \n",
    "\n",
    "Job market in US is obviously bigger than UK for data science professionals. However at the same time, we see a similar distribution of open positions between job levels (Mid Senior vs Associate). \n",
    "\n",
    "Salaries in terms of USD are higher in US than in UK (including Average and Maximum Salary), while having lower minimum salary compared to UK and higher Standard deviation. One could assume that although US brings higher earning opportunities in general (excluding cost of living effects), UK market offers stable income for data science professionals of different levels with limited growth potential."
   ]
  },
  {
   "cell_type": "markdown",
   "metadata": {},
   "source": [
    "In the below bar chart we see the distribution of Average Salaries per job level and countries, which is assisting us to answer the research question."
   ]
  },
  {
   "cell_type": "code",
   "execution_count": 69,
   "metadata": {
    "id": "6fdK_8ZGZm9R"
   },
   "outputs": [
    {
     "data": {
      "image/png": "[encoded data removed]",
      "text/plain": [
       "<Figure size 1200x600 with 1 Axes>"
      ]
     },
     "metadata": {},
     "output_type": "display_data"
    }
   ],
   "source": [
    "# Create the bar plot\n",
    "plt.figure(figsize=(12, 6))\n",
    "bar_plot = sns.barplot(data=df_combined, x='job_level', y='Average_Salary', hue='Country')\n",
    "\n",
    "# Add value annotations on top of the bars\n",
    "for p in bar_plot.patches:\n",
    "    bar_plot.annotate(f'{p.get_height():,.0f}', \n",
    "                      (p.get_x() + p.get_width() / 2., p.get_height()), \n",
    "                      ha='center', \n",
    "                      va='bottom', \n",
    "                      fontsize=10, \n",
    "                      color='black', \n",
    "                      xytext=(0, 0),  # Offset the text slightly above the bar\n",
    "                      textcoords='offset points')\n",
    "\n",
    "# Title and labels\n",
    "plt.title('Average Salary by Job Level and Country')\n",
    "plt.ylabel('Average Salary')\n",
    "plt.xlabel('Job Level')\n",
    "plt.legend(title='Country')\n",
    "plt.xticks(rotation=45)\n",
    "\n",
    "# Show the plot\n",
    "plt.show()"
   ]
  },
  {
   "cell_type": "code",
   "execution_count": 70,
   "metadata": {},
   "outputs": [
    {
     "name": "stdout",
     "output_type": "stream",
     "text": [
      "The difference in Average salary between US and UK for Data Science professionals in Mid Senior level is $20,978.47 or 14.53%\n"
     ]
    }
   ],
   "source": [
    "average_salary_US = df_combined[\n",
    "        (df_combined['Country'] == 'United States') & (df_combined['job_level'] == 'Mid senior')\n",
    "    ]['Average_Salary'].iloc[0]\n",
    "average_salary_UK = df_combined[\n",
    "        (df_combined['Country'] == 'United Kingdom') & (df_combined['job_level'] == 'Mid senior')\n",
    "    ]['Average_Salary'].iloc[0]\n",
    "average_salary_diff=average_salary_US-average_salary_UK\n",
    "average_salary_diff_perc=(average_salary_US-average_salary_UK)/average_salary_UK*100\n",
    "\n",
    "\n",
    "print(f\"The difference in Average salary between US and UK for Data Science professionals in Mid Senior level is ${average_salary_diff:,.2f} or {average_salary_diff_perc:,.2f}%\")"
   ]
  },
  {
   "cell_type": "markdown",
   "metadata": {
    "id": "0ezWXXZVj-TP"
   },
   "source": [
    "### **5.2:** Reflection\n",
    "In 2-4 sentences, if you had more time to complete the project, what actions would you take? For example, which data quality and structural issues would you look into further, and what research questions would you further explore?"
   ]
  },
  {
   "cell_type": "markdown",
   "metadata": {
    "id": "XB3RBDG5kFe1"
   },
   "source": [
    "*Answer:* In case of an interest in continuation of the analysis presented in this report, we could offer the following extensions:\n",
    "- increasing geography to more countries of interest;\n",
    "- combine dataset without an aggregation of data, if it is needed, in order to derive more of lower level data analytics and have an ability to track data at entry level;\n",
    "- exclude the limit in number of entries, set at the beginning of this report, to ensure a bigger coverage of data (please refer to LIMITATION above)."
   ]
  }
 ],
 "metadata": {
  "colab": {
   "provenance": []
  },
  "kernelspec": {
   "display_name": "Python 3 (ipykernel)",
   "language": "python",
   "name": "python3"
  },
  "language_info": {
   "codemirror_mode": {
    "name": "ipython",
    "version": 3
   },
   "file_extension": ".py",
   "mimetype": "text/x-python",
   "name": "python",
   "nbconvert_exporter": "python",
   "pygments_lexer": "ipython3",
   "version": "3.12.7"
  }
 },
 "nbformat": 4,
 "nbformat_minor": 4
}
